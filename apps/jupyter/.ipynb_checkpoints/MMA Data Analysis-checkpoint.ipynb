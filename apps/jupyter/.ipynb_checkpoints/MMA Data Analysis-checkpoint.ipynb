{
 "cells": [
  {
   "cell_type": "code",
   "execution_count": 82,
   "id": "75d9ad0b",
   "metadata": {},
   "outputs": [
    {
     "name": "stdout",
     "output_type": "stream",
     "text": [
      "Class 'Helper' v1.1 has been loaded\n"
     ]
    }
   ],
   "source": [
    "import pandas as pd\n",
    "import os\n",
    "\n",
    "# library helper\n",
    "# run: importnb-install from Conda before using\n",
    "from importnb import Notebook\n",
    "with Notebook(): \n",
    "    import Utility\n",
    "\n",
    "# custom helper class (from jupyter notebook)\n",
    "helper = Utility.Helper()\n",
    "\n",
    "%matplotlib inline\n",
    "import matplotlib.pyplot as plt\n",
    "\n",
    "from sklearn.preprocessing import MinMaxScaler"
   ]
  },
  {
   "cell_type": "markdown",
   "id": "878a150c",
   "metadata": {},
   "source": [
    "        Function to reload changes in Jupyter notebooks"
   ]
  },
  {
   "cell_type": "code",
   "execution_count": 83,
   "id": "64165ccb",
   "metadata": {},
   "outputs": [],
   "source": [
    "# reload notebooks\n",
    "from importlib import reload\n",
    "with Notebook(): __name__ == '__main__' and reload(Utility)"
   ]
  },
  {
   "cell_type": "code",
   "execution_count": 84,
   "id": "4c1e4890",
   "metadata": {},
   "outputs": [],
   "source": [
    "DATA_PATH = '../../data/'\n",
    "\n",
    "FIGSIZE = (20,15)"
   ]
  },
  {
   "cell_type": "code",
   "execution_count": 85,
   "id": "6d702901",
   "metadata": {},
   "outputs": [
    {
     "data": {
      "text/html": [
       "<div>\n",
       "<style scoped>\n",
       "    .dataframe tbody tr th:only-of-type {\n",
       "        vertical-align: middle;\n",
       "    }\n",
       "\n",
       "    .dataframe tbody tr th {\n",
       "        vertical-align: top;\n",
       "    }\n",
       "\n",
       "    .dataframe thead th {\n",
       "        text-align: right;\n",
       "    }\n",
       "</style>\n",
       "<table border=\"1\" class=\"dataframe\">\n",
       "  <thead>\n",
       "    <tr style=\"text-align: right;\">\n",
       "      <th></th>\n",
       "      <th>FighterId</th>\n",
       "      <th>FirstName</th>\n",
       "      <th>LastName</th>\n",
       "      <th>Nickname</th>\n",
       "      <th>WeightClass</th>\n",
       "      <th>BirthDate</th>\n",
       "      <th>Height</th>\n",
       "      <th>Weight</th>\n",
       "      <th>Reach</th>\n",
       "      <th>Wins</th>\n",
       "      <th>...</th>\n",
       "      <th>TitleWins</th>\n",
       "      <th>TitleLosses</th>\n",
       "      <th>TitleDraws</th>\n",
       "      <th>SigStrikesLandedPerMinute</th>\n",
       "      <th>SigStrikeAccuracy</th>\n",
       "      <th>TakedownAverage</th>\n",
       "      <th>SubmissionAverage</th>\n",
       "      <th>KnockoutPercentage</th>\n",
       "      <th>TechnicalKnockoutPercentage</th>\n",
       "      <th>DecisionPercentage</th>\n",
       "    </tr>\n",
       "  </thead>\n",
       "  <tbody>\n",
       "    <tr>\n",
       "      <th>0</th>\n",
       "      <td>140000992</td>\n",
       "      <td>Chris</td>\n",
       "      <td>Daukaus</td>\n",
       "      <td>NaN</td>\n",
       "      <td>Heavyweight</td>\n",
       "      <td>1989-09-25T00:00:00</td>\n",
       "      <td>75.0</td>\n",
       "      <td>231.0</td>\n",
       "      <td>76.0</td>\n",
       "      <td>12</td>\n",
       "      <td>...</td>\n",
       "      <td>0</td>\n",
       "      <td>0</td>\n",
       "      <td>0</td>\n",
       "      <td>10.9</td>\n",
       "      <td>65.9</td>\n",
       "      <td>0.0</td>\n",
       "      <td>0.0</td>\n",
       "      <td>32.1</td>\n",
       "      <td>32.1</td>\n",
       "      <td>0.0</td>\n",
       "    </tr>\n",
       "    <tr>\n",
       "      <th>1</th>\n",
       "      <td>140000735</td>\n",
       "      <td>Brett</td>\n",
       "      <td>Johns</td>\n",
       "      <td>The Pikey</td>\n",
       "      <td>Bantamweight</td>\n",
       "      <td>1992-02-21T00:00:00</td>\n",
       "      <td>67.0</td>\n",
       "      <td>135.0</td>\n",
       "      <td>71.0</td>\n",
       "      <td>17</td>\n",
       "      <td>...</td>\n",
       "      <td>1</td>\n",
       "      <td>0</td>\n",
       "      <td>0</td>\n",
       "      <td>2.0</td>\n",
       "      <td>53.7</td>\n",
       "      <td>3.4</td>\n",
       "      <td>0.7</td>\n",
       "      <td>0.0</td>\n",
       "      <td>0.0</td>\n",
       "      <td>13.2</td>\n",
       "    </tr>\n",
       "    <tr>\n",
       "      <th>2</th>\n",
       "      <td>140000485</td>\n",
       "      <td>Raquel</td>\n",
       "      <td>Pennington</td>\n",
       "      <td>Rocky</td>\n",
       "      <td>Women's Bantamweight</td>\n",
       "      <td>1988-09-05T00:00:00</td>\n",
       "      <td>67.0</td>\n",
       "      <td>135.0</td>\n",
       "      <td>67.0</td>\n",
       "      <td>12</td>\n",
       "      <td>...</td>\n",
       "      <td>0</td>\n",
       "      <td>0</td>\n",
       "      <td>0</td>\n",
       "      <td>0.8</td>\n",
       "      <td>27.5</td>\n",
       "      <td>0.3</td>\n",
       "      <td>0.2</td>\n",
       "      <td>0.0</td>\n",
       "      <td>0.0</td>\n",
       "      <td>16.1</td>\n",
       "    </tr>\n",
       "    <tr>\n",
       "      <th>3</th>\n",
       "      <td>140000613</td>\n",
       "      <td>Brandon</td>\n",
       "      <td>Moreno</td>\n",
       "      <td>The Assassin Baby</td>\n",
       "      <td>Flyweight</td>\n",
       "      <td>1993-12-07T00:00:00</td>\n",
       "      <td>67.0</td>\n",
       "      <td>125.0</td>\n",
       "      <td>70.0</td>\n",
       "      <td>19</td>\n",
       "      <td>...</td>\n",
       "      <td>1</td>\n",
       "      <td>0</td>\n",
       "      <td>1</td>\n",
       "      <td>1.5</td>\n",
       "      <td>32.4</td>\n",
       "      <td>0.9</td>\n",
       "      <td>0.3</td>\n",
       "      <td>1.7</td>\n",
       "      <td>1.7</td>\n",
       "      <td>5.1</td>\n",
       "    </tr>\n",
       "    <tr>\n",
       "      <th>4</th>\n",
       "      <td>140000268</td>\n",
       "      <td>Magomed</td>\n",
       "      <td>Mustafaev</td>\n",
       "      <td>The Sniper</td>\n",
       "      <td>Lightweight</td>\n",
       "      <td>1988-08-02T00:00:00</td>\n",
       "      <td>68.0</td>\n",
       "      <td>156.0</td>\n",
       "      <td>71.0</td>\n",
       "      <td>14</td>\n",
       "      <td>...</td>\n",
       "      <td>0</td>\n",
       "      <td>0</td>\n",
       "      <td>0</td>\n",
       "      <td>7.2</td>\n",
       "      <td>107.4</td>\n",
       "      <td>9.2</td>\n",
       "      <td>1.1</td>\n",
       "      <td>18.6</td>\n",
       "      <td>18.6</td>\n",
       "      <td>0.0</td>\n",
       "    </tr>\n",
       "  </tbody>\n",
       "</table>\n",
       "<p>5 rows × 27 columns</p>\n",
       "</div>"
      ],
      "text/plain": [
       "   FighterId FirstName    LastName           Nickname           WeightClass  \\\n",
       "0  140000992     Chris     Daukaus                NaN           Heavyweight   \n",
       "1  140000735     Brett       Johns          The Pikey          Bantamweight   \n",
       "2  140000485    Raquel  Pennington              Rocky  Women's Bantamweight   \n",
       "3  140000613   Brandon      Moreno  The Assassin Baby             Flyweight   \n",
       "4  140000268   Magomed   Mustafaev         The Sniper           Lightweight   \n",
       "\n",
       "             BirthDate  Height  Weight  Reach  Wins  ...  TitleWins  \\\n",
       "0  1989-09-25T00:00:00    75.0   231.0   76.0    12  ...          0   \n",
       "1  1992-02-21T00:00:00    67.0   135.0   71.0    17  ...          1   \n",
       "2  1988-09-05T00:00:00    67.0   135.0   67.0    12  ...          0   \n",
       "3  1993-12-07T00:00:00    67.0   125.0   70.0    19  ...          1   \n",
       "4  1988-08-02T00:00:00    68.0   156.0   71.0    14  ...          0   \n",
       "\n",
       "   TitleLosses  TitleDraws  SigStrikesLandedPerMinute  SigStrikeAccuracy  \\\n",
       "0            0           0                       10.9               65.9   \n",
       "1            0           0                        2.0               53.7   \n",
       "2            0           0                        0.8               27.5   \n",
       "3            0           1                        1.5               32.4   \n",
       "4            0           0                        7.2              107.4   \n",
       "\n",
       "   TakedownAverage  SubmissionAverage  KnockoutPercentage  \\\n",
       "0              0.0                0.0                32.1   \n",
       "1              3.4                0.7                 0.0   \n",
       "2              0.3                0.2                 0.0   \n",
       "3              0.9                0.3                 1.7   \n",
       "4              9.2                1.1                18.6   \n",
       "\n",
       "   TechnicalKnockoutPercentage  DecisionPercentage  \n",
       "0                         32.1                 0.0  \n",
       "1                          0.0                13.2  \n",
       "2                          0.0                16.1  \n",
       "3                          1.7                 5.1  \n",
       "4                         18.6                 0.0  \n",
       "\n",
       "[5 rows x 27 columns]"
      ]
     },
     "execution_count": 85,
     "metadata": {},
     "output_type": "execute_result"
    }
   ],
   "source": [
    "fighter_file = DATA_PATH + \"fighter_stats_UFC_2020.csv\"\n",
    "    \n",
    "fighter_df = helper.create_df(fighter_file)\n",
    "\n",
    "fighter_df.head()"
   ]
  },
  {
   "cell_type": "code",
   "execution_count": 86,
   "id": "343e0903",
   "metadata": {},
   "outputs": [
    {
     "name": "stdout",
     "output_type": "stream",
     "text": [
      "<class 'pandas.core.frame.DataFrame'>\n",
      "RangeIndex: 705 entries, 0 to 704\n",
      "Data columns (total 27 columns):\n",
      " #   Column                       Non-Null Count  Dtype  \n",
      "---  ------                       --------------  -----  \n",
      " 0   FighterId                    705 non-null    int64  \n",
      " 1   FirstName                    705 non-null    object \n",
      " 2   LastName                     705 non-null    object \n",
      " 3   Nickname                     541 non-null    object \n",
      " 4   WeightClass                  702 non-null    object \n",
      " 5   BirthDate                    705 non-null    object \n",
      " 6   Height                       705 non-null    float64\n",
      " 7   Weight                       705 non-null    float64\n",
      " 8   Reach                        705 non-null    float64\n",
      " 9   Wins                         705 non-null    int64  \n",
      " 10  Losses                       705 non-null    int64  \n",
      " 11  Draws                        705 non-null    int64  \n",
      " 12  NoContests                   705 non-null    int64  \n",
      " 13  TechnicalKnockouts           705 non-null    int64  \n",
      " 14  TechnicalKnockoutLosses      705 non-null    int64  \n",
      " 15  Submissions                  705 non-null    int64  \n",
      " 16  SubmissionLosses             705 non-null    int64  \n",
      " 17  TitleWins                    705 non-null    int64  \n",
      " 18  TitleLosses                  705 non-null    int64  \n",
      " 19  TitleDraws                   705 non-null    int64  \n",
      " 20  SigStrikesLandedPerMinute    687 non-null    float64\n",
      " 21  SigStrikeAccuracy            687 non-null    float64\n",
      " 22  TakedownAverage              687 non-null    float64\n",
      " 23  SubmissionAverage            687 non-null    float64\n",
      " 24  KnockoutPercentage           705 non-null    float64\n",
      " 25  TechnicalKnockoutPercentage  705 non-null    float64\n",
      " 26  DecisionPercentage           705 non-null    float64\n",
      "dtypes: float64(10), int64(12), object(5)\n",
      "memory usage: 148.8+ KB\n"
     ]
    }
   ],
   "source": [
    "fighter_df.info()"
   ]
  },
  {
   "cell_type": "code",
   "execution_count": 87,
   "id": "3fda0fb4",
   "metadata": {},
   "outputs": [
    {
     "data": {
      "text/plain": [
       "array([[<AxesSubplot:title={'center':'Height'}>,\n",
       "        <AxesSubplot:title={'center':'Weight'}>,\n",
       "        <AxesSubplot:title={'center':'Reach'}>],\n",
       "       [<AxesSubplot:title={'center':'Wins'}>,\n",
       "        <AxesSubplot:title={'center':'Losses'}>,\n",
       "        <AxesSubplot:title={'center':'SigStrikesLandedPerMinute'}>],\n",
       "       [<AxesSubplot:title={'center':'SigStrikeAccuracy'}>,\n",
       "        <AxesSubplot:title={'center':'TakedownAverage'}>,\n",
       "        <AxesSubplot:title={'center':'SubmissionAverage'}>],\n",
       "       [<AxesSubplot:title={'center':'KnockoutPercentage'}>,\n",
       "        <AxesSubplot:title={'center':'TechnicalKnockoutPercentage'}>,\n",
       "        <AxesSubplot:title={'center':'DecisionPercentage'}>]],\n",
       "      dtype=object)"
      ]
     },
     "execution_count": 87,
     "metadata": {},
     "output_type": "execute_result"
    },
    {
     "data": {
      "image/png": "[encoded data removed]",
      "text/plain": [
       "<Figure size 1440x1080 with 12 Axes>"
      ]
     },
     "metadata": {
      "needs_background": "light"
     },
     "output_type": "display_data"
    }
   ],
   "source": [
    "numerical_features = ['Height', 'Weight', 'Reach', 'Wins', 'Losses', 'SigStrikesLandedPerMinute', 'SigStrikeAccuracy', 'TakedownAverage', 'SubmissionAverage', 'KnockoutPercentage', 'TechnicalKnockoutPercentage', 'DecisionPercentage']\n",
    "\n",
    "fighter_df[numerical_features].hist(bins=50, figsize=FIGSIZE)"
   ]
  },
  {
   "cell_type": "code",
   "execution_count": 88,
   "id": "a88ad0d3",
   "metadata": {},
   "outputs": [
    {
     "data": {
      "text/html": [
       "<div>\n",
       "<style scoped>\n",
       "    .dataframe tbody tr th:only-of-type {\n",
       "        vertical-align: middle;\n",
       "    }\n",
       "\n",
       "    .dataframe tbody tr th {\n",
       "        vertical-align: top;\n",
       "    }\n",
       "\n",
       "    .dataframe thead th {\n",
       "        text-align: right;\n",
       "    }\n",
       "</style>\n",
       "<table border=\"1\" class=\"dataframe\">\n",
       "  <thead>\n",
       "    <tr style=\"text-align: right;\">\n",
       "      <th></th>\n",
       "      <th>FighterId</th>\n",
       "      <th>FirstName</th>\n",
       "      <th>LastName</th>\n",
       "      <th>Nickname</th>\n",
       "      <th>WeightClass</th>\n",
       "      <th>BirthDate</th>\n",
       "      <th>Height</th>\n",
       "      <th>Weight</th>\n",
       "      <th>Reach</th>\n",
       "      <th>Wins</th>\n",
       "      <th>...</th>\n",
       "      <th>TitleWins</th>\n",
       "      <th>TitleLosses</th>\n",
       "      <th>TitleDraws</th>\n",
       "      <th>SigStrikesLandedPerMinute</th>\n",
       "      <th>SigStrikeAccuracy</th>\n",
       "      <th>TakedownAverage</th>\n",
       "      <th>SubmissionAverage</th>\n",
       "      <th>KnockoutPercentage</th>\n",
       "      <th>TechnicalKnockoutPercentage</th>\n",
       "      <th>DecisionPercentage</th>\n",
       "    </tr>\n",
       "  </thead>\n",
       "  <tbody>\n",
       "  </tbody>\n",
       "</table>\n",
       "<p>0 rows × 27 columns</p>\n",
       "</div>"
      ],
      "text/plain": [
       "Empty DataFrame\n",
       "Columns: [FighterId, FirstName, LastName, Nickname, WeightClass, BirthDate, Height, Weight, Reach, Wins, Losses, Draws, NoContests, TechnicalKnockouts, TechnicalKnockoutLosses, Submissions, SubmissionLosses, TitleWins, TitleLosses, TitleDraws, SigStrikesLandedPerMinute, SigStrikeAccuracy, TakedownAverage, SubmissionAverage, KnockoutPercentage, TechnicalKnockoutPercentage, DecisionPercentage]\n",
       "Index: []\n",
       "\n",
       "[0 rows x 27 columns]"
      ]
     },
     "execution_count": 88,
     "metadata": {},
     "output_type": "execute_result"
    }
   ],
   "source": [
    "# looking at the data it appears KOs () and TKOs () are reported as the same value\n",
    "fighter_df.loc[(fighter_df['KnockoutPercentage'] != fighter_df['TechnicalKnockoutPercentage'])]"
   ]
  },
  {
   "cell_type": "code",
   "execution_count": 89,
   "id": "1b228205",
   "metadata": {},
   "outputs": [],
   "source": [
    "# as above, this column is always the same as TKOs, will \"combine\" them to reduce ambiguity\n",
    "fighter_df['StrikeFinishPercentage'] = fighter_df['KnockoutPercentage']\n",
    "\n",
    "# this stat is left out of the data but can be calculated (win % where not by KOs/TKOs, decisions)\n",
    "fighter_df['SubmissionPercentage'] = 100 - (fighter_df['StrikeFinishPercentage'] + fighter_df['DecisionPercentage'])\n",
    "\n",
    "fighter_df['StrikeFinishes'] = fighter_df['KnockoutPercentage'] + fighter_df['TechnicalKnockoutPercentage']\n",
    "fighter_df['WorkAverage'] = fighter_df['SigStrikesLandedPerMinute'] * fighter_df['TakedownAverage'] * fighter_df['SubmissionAverage']\n",
    "fighter_df['Length'] = fighter_df['Height'] * fighter_df['Reach'] / fighter_df['Weight']"
   ]
  },
  {
   "cell_type": "code",
   "execution_count": 90,
   "id": "6bdf9a1e",
   "metadata": {},
   "outputs": [
    {
     "data": {
      "text/plain": [
       "array([[<AxesSubplot:title={'center':'Length'}>,\n",
       "        <AxesSubplot:title={'center':'StrikeFinishes'}>],\n",
       "       [<AxesSubplot:title={'center':'WorkAverage'}>,\n",
       "        <AxesSubplot:title={'center':'SubmissionPercentage'}>]],\n",
       "      dtype=object)"
      ]
     },
     "execution_count": 90,
     "metadata": {},
     "output_type": "execute_result"
    },
    {
     "data": {
      "image/png": "[encoded data removed]",
      "text/plain": [
       "<Figure size 1440x1080 with 4 Axes>"
      ]
     },
     "metadata": {
      "needs_background": "light"
     },
     "output_type": "display_data"
    }
   ],
   "source": [
    "engineering_features = ['Length', 'StrikeFinishes', 'WorkAverage', 'SubmissionPercentage']\n",
    "\n",
    "fighter_df[engineering_features].hist(bins=50, figsize=FIGSIZE)"
   ]
  },
  {
   "cell_type": "markdown",
   "id": "60b28057",
   "metadata": {},
   "source": [
    "    Let's scale some of these features"
   ]
  },
  {
   "cell_type": "code",
   "execution_count": 91,
   "id": "a8790342",
   "metadata": {},
   "outputs": [],
   "source": [
    "scaler = MinMaxScaler()\n",
    "\n",
    "fighter_df[['WorkAverage', 'SigStrikeAccuracy']] = scaler.fit_transform(fighter_df[['WorkAverage', 'SigStrikeAccuracy']])"
   ]
  },
  {
   "cell_type": "code",
   "execution_count": 92,
   "id": "5cb1b473",
   "metadata": {
    "scrolled": true
   },
   "outputs": [
    {
     "data": {
      "text/plain": [
       "array([[<AxesSubplot:title={'center':'WorkAverage'}>,\n",
       "        <AxesSubplot:title={'center':'SigStrikeAccuracy'}>]], dtype=object)"
      ]
     },
     "execution_count": 92,
     "metadata": {},
     "output_type": "execute_result"
    },
    {
     "data": {
      "image/png": "[encoded data removed]",
      "text/plain": [
       "<Figure size 1440x1080 with 2 Axes>"
      ]
     },
     "metadata": {
      "needs_background": "light"
     },
     "output_type": "display_data"
    }
   ],
   "source": [
    "fighter_df[['WorkAverage', 'SigStrikeAccuracy']].hist(bins=50, figsize=FIGSIZE)"
   ]
  },
  {
   "cell_type": "markdown",
   "id": "d858f279",
   "metadata": {},
   "source": [
    "    Data cleaning"
   ]
  },
  {
   "cell_type": "code",
   "execution_count": 93,
   "id": "53075c94",
   "metadata": {},
   "outputs": [
    {
     "data": {
      "text/html": [
       "<div>\n",
       "<style scoped>\n",
       "    .dataframe tbody tr th:only-of-type {\n",
       "        vertical-align: middle;\n",
       "    }\n",
       "\n",
       "    .dataframe tbody tr th {\n",
       "        vertical-align: top;\n",
       "    }\n",
       "\n",
       "    .dataframe thead th {\n",
       "        text-align: right;\n",
       "    }\n",
       "</style>\n",
       "<table border=\"1\" class=\"dataframe\">\n",
       "  <thead>\n",
       "    <tr style=\"text-align: right;\">\n",
       "      <th></th>\n",
       "      <th>FighterId</th>\n",
       "      <th>FirstName</th>\n",
       "      <th>LastName</th>\n",
       "      <th>Nickname</th>\n",
       "      <th>WeightClass</th>\n",
       "      <th>BirthDate</th>\n",
       "      <th>Height</th>\n",
       "      <th>Weight</th>\n",
       "      <th>Reach</th>\n",
       "      <th>Wins</th>\n",
       "      <th>...</th>\n",
       "      <th>TakedownAverage</th>\n",
       "      <th>SubmissionAverage</th>\n",
       "      <th>KnockoutPercentage</th>\n",
       "      <th>TechnicalKnockoutPercentage</th>\n",
       "      <th>DecisionPercentage</th>\n",
       "      <th>StrikeFinishPercentage</th>\n",
       "      <th>SubmissionPercentage</th>\n",
       "      <th>StrikeFinishes</th>\n",
       "      <th>WorkAverage</th>\n",
       "      <th>Length</th>\n",
       "    </tr>\n",
       "  </thead>\n",
       "  <tbody>\n",
       "    <tr>\n",
       "      <th>196</th>\n",
       "      <td>140000145</td>\n",
       "      <td>Kamaru</td>\n",
       "      <td>Usman</td>\n",
       "      <td>Nigerian Nightmare</td>\n",
       "      <td>Welterweight</td>\n",
       "      <td>1987-05-11T00:00:00</td>\n",
       "      <td>72.0</td>\n",
       "      <td>169.0</td>\n",
       "      <td>76.0</td>\n",
       "      <td>20</td>\n",
       "      <td>...</td>\n",
       "      <td>9.1</td>\n",
       "      <td>0.4</td>\n",
       "      <td>33.2</td>\n",
       "      <td>33.2</td>\n",
       "      <td>83.0</td>\n",
       "      <td>33.2</td>\n",
       "      <td>-16.2</td>\n",
       "      <td>66.4</td>\n",
       "      <td>0.012617</td>\n",
       "      <td>32.378698</td>\n",
       "    </tr>\n",
       "  </tbody>\n",
       "</table>\n",
       "<p>1 rows × 32 columns</p>\n",
       "</div>"
      ],
      "text/plain": [
       "     FighterId FirstName LastName            Nickname   WeightClass  \\\n",
       "196  140000145    Kamaru    Usman  Nigerian Nightmare  Welterweight   \n",
       "\n",
       "               BirthDate  Height  Weight  Reach  Wins  ...  TakedownAverage  \\\n",
       "196  1987-05-11T00:00:00    72.0   169.0   76.0    20  ...              9.1   \n",
       "\n",
       "     SubmissionAverage  KnockoutPercentage  TechnicalKnockoutPercentage  \\\n",
       "196                0.4                33.2                         33.2   \n",
       "\n",
       "     DecisionPercentage  StrikeFinishPercentage  SubmissionPercentage  \\\n",
       "196                83.0                    33.2                 -16.2   \n",
       "\n",
       "     StrikeFinishes  WorkAverage     Length  \n",
       "196            66.4     0.012617  32.378698  \n",
       "\n",
       "[1 rows x 32 columns]"
      ]
     },
     "execution_count": 93,
     "metadata": {},
     "output_type": "execute_result"
    }
   ],
   "source": [
    "fighter_df.loc[fighter_df['SubmissionPercentage'] < 0]"
   ]
  },
  {
   "cell_type": "markdown",
   "id": "a385232a",
   "metadata": {},
   "source": [
    "    Since there is only one record where finish percentages look skewed these can be \n",
    "    \n",
    "    Professional record breakdown\n",
    "    \n",
    "        21 matches\t\n",
    "        20 wins\t1 loss\n",
    "        By knockout\t9\t0\n",
    "        By submission\t1\t1\n",
    "        By decision\t10"
   ]
  },
  {
   "cell_type": "code",
   "execution_count": 103,
   "id": "1f08b2f3",
   "metadata": {},
   "outputs": [
    {
     "data": {
      "text/html": [
       "<div>\n",
       "<style scoped>\n",
       "    .dataframe tbody tr th:only-of-type {\n",
       "        vertical-align: middle;\n",
       "    }\n",
       "\n",
       "    .dataframe tbody tr th {\n",
       "        vertical-align: top;\n",
       "    }\n",
       "\n",
       "    .dataframe thead th {\n",
       "        text-align: right;\n",
       "    }\n",
       "</style>\n",
       "<table border=\"1\" class=\"dataframe\">\n",
       "  <thead>\n",
       "    <tr style=\"text-align: right;\">\n",
       "      <th></th>\n",
       "      <th>FighterId</th>\n",
       "      <th>FirstName</th>\n",
       "      <th>LastName</th>\n",
       "      <th>Nickname</th>\n",
       "      <th>WeightClass</th>\n",
       "      <th>BirthDate</th>\n",
       "      <th>Height</th>\n",
       "      <th>Weight</th>\n",
       "      <th>Reach</th>\n",
       "      <th>Wins</th>\n",
       "      <th>...</th>\n",
       "      <th>TakedownAverage</th>\n",
       "      <th>SubmissionAverage</th>\n",
       "      <th>KnockoutPercentage</th>\n",
       "      <th>TechnicalKnockoutPercentage</th>\n",
       "      <th>DecisionPercentage</th>\n",
       "      <th>StrikeFinishPercentage</th>\n",
       "      <th>SubmissionPercentage</th>\n",
       "      <th>StrikeFinishes</th>\n",
       "      <th>WorkAverage</th>\n",
       "      <th>Length</th>\n",
       "    </tr>\n",
       "  </thead>\n",
       "  <tbody>\n",
       "    <tr>\n",
       "      <th>196</th>\n",
       "      <td>140000145</td>\n",
       "      <td>Kamaru</td>\n",
       "      <td>Usman</td>\n",
       "      <td>Nigerian Nightmare</td>\n",
       "      <td>Welterweight</td>\n",
       "      <td>1987-05-11T00:00:00</td>\n",
       "      <td>72.0</td>\n",
       "      <td>169.0</td>\n",
       "      <td>76.0</td>\n",
       "      <td>20</td>\n",
       "      <td>...</td>\n",
       "      <td>9.1</td>\n",
       "      <td>0.4</td>\n",
       "      <td>45.0</td>\n",
       "      <td>33.2</td>\n",
       "      <td>50.0</td>\n",
       "      <td>33.2</td>\n",
       "      <td>5.0</td>\n",
       "      <td>66.4</td>\n",
       "      <td>0.012617</td>\n",
       "      <td>32.378698</td>\n",
       "    </tr>\n",
       "  </tbody>\n",
       "</table>\n",
       "<p>1 rows × 32 columns</p>\n",
       "</div>"
      ],
      "text/plain": [
       "     FighterId FirstName LastName            Nickname   WeightClass  \\\n",
       "196  140000145    Kamaru    Usman  Nigerian Nightmare  Welterweight   \n",
       "\n",
       "               BirthDate  Height  Weight  Reach  Wins  ...  TakedownAverage  \\\n",
       "196  1987-05-11T00:00:00    72.0   169.0   76.0    20  ...              9.1   \n",
       "\n",
       "     SubmissionAverage  KnockoutPercentage  TechnicalKnockoutPercentage  \\\n",
       "196                0.4                45.0                         33.2   \n",
       "\n",
       "     DecisionPercentage  StrikeFinishPercentage  SubmissionPercentage  \\\n",
       "196                50.0                    33.2                   5.0   \n",
       "\n",
       "     StrikeFinishes  WorkAverage     Length  \n",
       "196            66.4     0.012617  32.378698  \n",
       "\n",
       "[1 rows x 32 columns]"
      ]
     },
     "execution_count": 103,
     "metadata": {},
     "output_type": "execute_result"
    }
   ],
   "source": [
    "KamaruUsmanIdx = fighter_df.index[fighter_df['SubmissionPercentage'] < 0]\n",
    "\n",
    "fighter_df.at[KamaruUsmanIdx, 'KnockoutPercentage'] = 9 / 20 * 100\n",
    "fighter_df.at[KamaruUsmanIdx, 'StrikeFinishPercentage'] = 9 / 20 * 100\n",
    "fighter_df.at[KamaruUsmanIdx, 'DecisionPercentage'] = 10 / 20 * 100\n",
    "fighter_df.at[KamaruUsmanIdx, 'SubmissionPercentage'] = 1 / 20 * 100\n",
    "\n",
    "fighter_df.loc[KamaruUsmanIdx]"
   ]
  }
 ],
 "metadata": {
  "kernelspec": {
   "display_name": "Python (dsfs)",
   "language": "python",
   "name": "dsfs"
  },
  "language_info": {
   "codemirror_mode": {
    "name": "ipython",
    "version": 3
   },
   "file_extension": ".py",
   "mimetype": "text/x-python",
   "name": "python",
   "nbconvert_exporter": "python",
   "pygments_lexer": "ipython3",
   "version": "3.8.8"
  }
 },
 "nbformat": 4,
 "nbformat_minor": 5
}
