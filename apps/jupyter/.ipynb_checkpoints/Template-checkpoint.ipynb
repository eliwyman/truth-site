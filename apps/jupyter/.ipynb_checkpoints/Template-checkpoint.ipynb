{
 "cells": [
  {
   "cell_type": "markdown",
   "id": "7d1e5eed",
   "metadata": {},
   "source": [
    "# Steps in Creating a Data Science Project\n",
    "\n",
    "1. Defining the problem\n",
    "**Business problem description:**\n",
    "**Technical problem description:**\n",
    "\n",
    "2. Getting the data\n",
    "Setup environment\n",
    "    Import libraries\n",
    "    Define constants and control variables    \n",
    "\n",
    "3. Exploratory data analysis\n",
    "\n",
    "4. Preparing the data for Machine Learning Algorithms\n",
    "Data cleaning\n",
    "Feature engineering\n",
    "preprocessing\n",
    "\n",
    "5. Creating and evaluating multiple machine learning models\n",
    "\n",
    "6. Tuning and selecting final models\n",
    "\n",
    "7. Presenting findings and/or solutions\n",
    "\n",
    "8. Launch, monitoring, and maintenance of system"
   ]
  },
  {
   "cell_type": "markdown",
   "id": "5af0f2bc",
   "metadata": {},
   "source": [
    "# 1. Defining the problem\n",
    "\n",
    "    **Business problem description:**\n",
    "\n",
    "    **Technical problem description:**"
   ]
  },
  {
   "cell_type": "markdown",
   "id": "657c117b",
   "metadata": {},
   "source": [
    "# 2. Getting the data"
   ]
  },
  {
   "cell_type": "markdown",
   "id": "af09edc2",
   "metadata": {},
   "source": [
    "# Setup environment"
   ]
  },
  {
   "cell_type": "markdown",
   "id": "7c6f04b0",
   "metadata": {},
   "source": [
    "    # Import libraries"
   ]
  },
  {
   "cell_type": "code",
   "execution_count": null,
   "id": "139176d9",
   "metadata": {},
   "outputs": [],
   "source": [
    "# library helper\n",
    "# run: importnb-install from Conda before using\n",
    "from importnb import Notebook\n",
    "with Notebook(): \n",
    "    import Utility\n",
    "\n",
    "# custom helper class (from jupyter notebook)\n",
    "helper = Utility.Helper()"
   ]
  },
  {
   "cell_type": "code",
   "execution_count": null,
   "id": "53842a85",
   "metadata": {},
   "outputs": [],
   "source": [
    "# reload changes in Jupyter notebooks\n",
    "from importlib import reload\n",
    "with Notebook(): __name__ == '__main__' and reload(Utility)"
   ]
  },
  {
   "cell_type": "markdown",
   "id": "efe76952",
   "metadata": {},
   "source": [
    "    # Define constants and control variables"
   ]
  },
  {
   "cell_type": "code",
   "execution_count": null,
   "id": "e9f196cb",
   "metadata": {},
   "outputs": [],
   "source": [
    "DATA_PATH = '../../data/'"
   ]
  },
  {
   "cell_type": "markdown",
   "id": "47230b7d",
   "metadata": {},
   "source": [
    "# 3. Exploratory data analysis"
   ]
  },
  {
   "cell_type": "markdown",
   "id": "8053d570",
   "metadata": {},
   "source": [
    "# 4. Preparing the data for Machine Learning Algorithms"
   ]
  },
  {
   "cell_type": "markdown",
   "id": "9191460a",
   "metadata": {},
   "source": [
    "# Data cleaning"
   ]
  },
  {
   "cell_type": "markdown",
   "id": "91af997c",
   "metadata": {},
   "source": [
    "# Feature engineering"
   ]
  },
  {
   "cell_type": "markdown",
   "id": "7a3addd9",
   "metadata": {},
   "source": [
    "# Data preprocessing"
   ]
  },
  {
   "cell_type": "markdown",
   "id": "e738873b",
   "metadata": {},
   "source": [
    "# 5. Creating and evaluating multiple machine learning models"
   ]
  },
  {
   "cell_type": "markdown",
   "id": "52e8a942",
   "metadata": {},
   "source": [
    "# 6. Tuning and selecting final models"
   ]
  },
  {
   "cell_type": "markdown",
   "id": "6957b59c",
   "metadata": {},
   "source": [
    "# 7. Presenting findings and/or solutions"
   ]
  },
  {
   "cell_type": "markdown",
   "id": "3f6bb985",
   "metadata": {},
   "source": [
    "# 8. Launch, monitoring, and maintenance of system"
   ]
  }
 ],
 "metadata": {
  "kernelspec": {
   "display_name": "Python (dsfs)",
   "language": "python",
   "name": "dsfs"
  },
  "language_info": {
   "codemirror_mode": {
    "name": "ipython",
    "version": 3
   },
   "file_extension": ".py",
   "mimetype": "text/x-python",
   "name": "python",
   "nbconvert_exporter": "python",
   "pygments_lexer": "ipython3",
   "version": "3.8.8"
  }
 },
 "nbformat": 4,
 "nbformat_minor": 5
}
