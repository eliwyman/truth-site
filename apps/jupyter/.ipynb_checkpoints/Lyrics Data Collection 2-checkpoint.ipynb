{
 "cells": [
  {
   "cell_type": "markdown",
   "id": "c5e6c368",
   "metadata": {},
   "source": [
    "    See 'Lyrics Data Collection', the notebook is split after pulling the list of artists, song names"
   ]
  },
  {
   "cell_type": "markdown",
   "id": "5d9720eb",
   "metadata": {},
   "source": [
    "    # Import libraries"
   ]
  },
  {
   "cell_type": "code",
   "execution_count": 55,
   "id": "6fd2cad8",
   "metadata": {},
   "outputs": [
    {
     "name": "stdout",
     "output_type": "stream",
     "text": [
      "Class 'Helper' v1.3 has been loaded\n"
     ]
    }
   ],
   "source": [
    "import pandas as pd\n",
    "\n",
    "# library helper\n",
    "# run: importnb-install from Conda before using\n",
    "from importnb import Notebook\n",
    "with Notebook(): \n",
    "    import Utility\n",
    "\n",
    "# custom helper class (from jupyter notebook)\n",
    "helper = Utility.Helper()\n",
    "\n",
    "from bs4 import BeautifulSoup\n",
    "import requests\n",
    "\n",
    "import re\n",
    "\n",
    "from string import ascii_lowercase\n",
    "\n",
    "# progress bars for long running functions\n",
    "from tqdm import tqdm"
   ]
  },
  {
   "cell_type": "code",
   "execution_count": 2,
   "id": "d8717b8d",
   "metadata": {},
   "outputs": [],
   "source": [
    "# reload changes in Jupyter notebooks\n",
    "from importlib import reload\n",
    "with Notebook(): __name__ == '__main__' and reload(Utility)"
   ]
  },
  {
   "cell_type": "markdown",
   "id": "3969d2ad",
   "metadata": {},
   "source": [
    "    # Define constants and control variables"
   ]
  },
  {
   "cell_type": "code",
   "execution_count": 3,
   "id": "2ddfe0d2",
   "metadata": {},
   "outputs": [],
   "source": [
    "DATA_PATH = '../../data/'\n",
    "\n",
    "LYRICS_URL = 'https://www.lyrics.com/'"
   ]
  },
  {
   "cell_type": "code",
   "execution_count": 7,
   "id": "9c8a2e4a",
   "metadata": {},
   "outputs": [
    {
     "data": {
      "text/html": [
       "<div>\n",
       "<style scoped>\n",
       "    .dataframe tbody tr th:only-of-type {\n",
       "        vertical-align: middle;\n",
       "    }\n",
       "\n",
       "    .dataframe tbody tr th {\n",
       "        vertical-align: top;\n",
       "    }\n",
       "\n",
       "    .dataframe thead th {\n",
       "        text-align: right;\n",
       "    }\n",
       "</style>\n",
       "<table border=\"1\" class=\"dataframe\">\n",
       "  <thead>\n",
       "    <tr style=\"text-align: right;\">\n",
       "      <th></th>\n",
       "      <th>Artist Name</th>\n",
       "      <th>Artist URL</th>\n",
       "      <th>Song Title</th>\n",
       "      <th>Song URL</th>\n",
       "      <th>Song Lyrics</th>\n",
       "    </tr>\n",
       "  </thead>\n",
       "  <tbody>\n",
       "    <tr>\n",
       "      <th>0</th>\n",
       "      <td>A B</td>\n",
       "      <td>artist/A-B/472398</td>\n",
       "      <td>Con el Tic Tac del Reloj</td>\n",
       "      <td>/lyric/3455846/A+B/Con+el+Tic+Tac+del+Reloj</td>\n",
       "      <td>NaN</td>\n",
       "    </tr>\n",
       "    <tr>\n",
       "      <th>1</th>\n",
       "      <td>A Bad Think</td>\n",
       "      <td>artist/A-Bad-Think/2137849593</td>\n",
       "      <td>Now You Know</td>\n",
       "      <td>/lyric/36417131/A+Bad+Think/Now+You+Know</td>\n",
       "      <td>NaN</td>\n",
       "    </tr>\n",
       "    <tr>\n",
       "      <th>2</th>\n",
       "      <td>A Baffled Republic</td>\n",
       "      <td>artist/A-Baffled-Republic/2137849643</td>\n",
       "      <td>Bad Boys (Move in Silence)</td>\n",
       "      <td>/lyric/2262594/A+Baffled+Republic/Bad+Boys+%28...</td>\n",
       "      <td>NaN</td>\n",
       "    </tr>\n",
       "    <tr>\n",
       "      <th>3</th>\n",
       "      <td>A Banca 021</td>\n",
       "      <td>artist/A-Banca-021/2137850524</td>\n",
       "      <td>Cor de Mel</td>\n",
       "      <td>/lyric/37798632/A+Banca+021/Cor+de+Mel</td>\n",
       "      <td>NaN</td>\n",
       "    </tr>\n",
       "    <tr>\n",
       "      <th>4</th>\n",
       "      <td>A Band Called \"O\"</td>\n",
       "      <td>artist/A-Band-Called-%22O%22/19641</td>\n",
       "      <td>Sleeping</td>\n",
       "      <td>/lyric/637199/A+Band+Called+%22O%22/Sleeping</td>\n",
       "      <td>NaN</td>\n",
       "    </tr>\n",
       "  </tbody>\n",
       "</table>\n",
       "</div>"
      ],
      "text/plain": [
       "          Artist Name                            Artist URL  \\\n",
       "0                 A B                     artist/A-B/472398   \n",
       "1         A Bad Think         artist/A-Bad-Think/2137849593   \n",
       "2  A Baffled Republic  artist/A-Baffled-Republic/2137849643   \n",
       "3         A Banca 021         artist/A-Banca-021/2137850524   \n",
       "4   A Band Called \"O\"    artist/A-Band-Called-%22O%22/19641   \n",
       "\n",
       "                   Song Title  \\\n",
       "0    Con el Tic Tac del Reloj   \n",
       "1                Now You Know   \n",
       "2  Bad Boys (Move in Silence)   \n",
       "3                  Cor de Mel   \n",
       "4                    Sleeping   \n",
       "\n",
       "                                            Song URL  Song Lyrics  \n",
       "0        /lyric/3455846/A+B/Con+el+Tic+Tac+del+Reloj          NaN  \n",
       "1           /lyric/36417131/A+Bad+Think/Now+You+Know          NaN  \n",
       "2  /lyric/2262594/A+Baffled+Republic/Bad+Boys+%28...          NaN  \n",
       "3             /lyric/37798632/A+Banca+021/Cor+de+Mel          NaN  \n",
       "4       /lyric/637199/A+Band+Called+%22O%22/Sleeping          NaN  "
      ]
     },
     "execution_count": 7,
     "metadata": {},
     "output_type": "execute_result"
    }
   ],
   "source": [
    "artist_df = pd.read_csv(DATA_PATH + \"artist_scrape_no_lyrics.csv\")\n",
    "artist_df.head()"
   ]
  },
  {
   "cell_type": "code",
   "execution_count": 32,
   "id": "e30e80d1",
   "metadata": {},
   "outputs": [
    {
     "data": {
      "text/plain": [
       "Artist Name    object\n",
       "Artist URL     object\n",
       "Song Title     object\n",
       "Song URL       object\n",
       "Song Lyrics    object\n",
       "dtype: object"
      ]
     },
     "execution_count": 32,
     "metadata": {},
     "output_type": "execute_result"
    }
   ],
   "source": [
    "# Cast Song Lyrics column to str using a dictionary:\n",
    "artist_df = artist_df.astype({'Song Lyrics': 'str'})\n",
    "\n",
    "artist_df.dtypes"
   ]
  },
  {
   "cell_type": "code",
   "execution_count": 18,
   "id": "0f2d91dc",
   "metadata": {},
   "outputs": [
    {
     "data": {
      "text/plain": [
       "['Era tan facil soÃ±ar',\n",
       " 'Que te podias quedar',\n",
       " 'Eras tan facil de amar',\n",
       " 'Un poco ingenua quisas',\n",
       " 'Era tan facil quedarte conmigo',\n",
       " '',\n",
       " 'Camino por el lugar',\n",
       " 'Donde solias estar',\n",
       " 'Esto me tiene tan mal ',\n",
       " 'Saber que tu ya no estas',\n",
       " 'Daria todo por estar contigo',\n",
       " '',\n",
       " 'Con el tic tac del reloj',\n",
       " 'Con la salida el sol',\n",
       " 'Me va llegando tu olor why tu adios',\n",
       " 'Con el tic tac del reloj',\n",
       " 'Sigue aumentando el dolor',\n",
       " 'Es otro dia que estoy sin tu amor',\n",
       " '',\n",
       " 'Yo nesesito de ti',\n",
       " 'Para poder exisitir',\n",
       " 'Me falta la voluntad ',\n",
       " 'Para poder respirar',\n",
       " 'Me mata la soledad why el vacio',\n",
       " '',\n",
       " 'Era tan facil soÃ±ar',\n",
       " 'Eras tan facil de amar',\n",
       " 'Esto me tiene tan mal (tan mal)',\n",
       " 'Saber que tu ya no estas',\n",
       " 'Daria todo para estar contigo',\n",
       " '',\n",
       " 'Con el tic tac del reloj',\n",
       " 'Con la salida el sol',\n",
       " 'Me va llegando tu olor why tu adios',\n",
       " 'Con el tic tac del reloj',\n",
       " 'Sigue aumentando el dolor',\n",
       " 'Es otro dia que estoy sin tu amor']"
      ]
     },
     "execution_count": 18,
     "metadata": {},
     "output_type": "execute_result"
    }
   ],
   "source": [
    "i = 0\n",
    "\n",
    "song_url = LYRICS_URL + artist_df['Song URL'][i]\n",
    "song_html = requests.get(song_url).text\n",
    "song_soup = BeautifulSoup(song_html, 'html5lib')\n",
    "song_lyrics = song_soup.find('pre', id='lyric-body-text').text\n",
    "\n",
    "song_lyrics.split('\\n')"
   ]
  },
  {
   "cell_type": "code",
   "execution_count": 35,
   "id": "4c43432c",
   "metadata": {},
   "outputs": [
    {
     "data": {
      "text/plain": [
       "(1352588, 5)"
      ]
     },
     "execution_count": 35,
     "metadata": {},
     "output_type": "execute_result"
    }
   ],
   "source": [
    "artist_df.shape"
   ]
  },
  {
   "cell_type": "code",
   "execution_count": 60,
   "id": "b55d7425",
   "metadata": {},
   "outputs": [],
   "source": [
    "curr = 30\n",
    "stop = 10000"
   ]
  },
  {
   "cell_type": "code",
   "execution_count": 61,
   "id": "22488d71",
   "metadata": {},
   "outputs": [
    {
     "name": "stderr",
     "output_type": "stream",
     "text": [
      "100%|████████████████████████████████████████████████████████████████████████████| 9970/9970 [3:00:33<00:00,  1.09s/it]\n"
     ]
    }
   ],
   "source": [
    "for i in tqdm(range(curr, stop)):\n",
    "    song_url = LYRICS_URL + artist_df['Song URL'][i]\n",
    "    song_html = requests.get(song_url).text\n",
    "    song_soup = BeautifulSoup(song_html, 'html5lib')\n",
    "    song_lyrics = song_soup.find('pre', id='lyric-body-text')\n",
    "    \n",
    "    if (song_lyrics == None): \n",
    "        artist_df.at[i, 'Song Lyrics'] = 'Not found'\n",
    "    else:\n",
    "        # Set value at specified row/column pair, replacing '\\n' with '+'\n",
    "        artist_df.at[i, 'Song Lyrics'] = re.sub('\\n', '+', song_lyrics.text)"
   ]
  },
  {
   "cell_type": "markdown",
   "id": "8c04207b",
   "metadata": {},
   "source": [
    "    Strip new line characters from song lyrics, replace with '+' (not found in any lyrics). Otherwise saving to a .csv produces multiple rows(records) per DataFrame row"
   ]
  },
  {
   "cell_type": "code",
   "execution_count": 70,
   "id": "f8f53c71",
   "metadata": {},
   "outputs": [],
   "source": [
    "# one time clean-up before adding to loop\n",
    "#artist_df['Song Lyrics'].iloc[0:stop] = artist_df['Song Lyrics'].iloc[0:stop].apply(lambda x: re.sub('\\n', '+', x))"
   ]
  },
  {
   "cell_type": "code",
   "execution_count": 72,
   "id": "62fc9121",
   "metadata": {},
   "outputs": [],
   "source": [
    "artist_df.to_csv(DATA_PATH + \"artist_scrape_with_lyrics.csv\")"
   ]
  }
 ],
 "metadata": {
  "kernelspec": {
   "display_name": "Python (dsfs)",
   "language": "python",
   "name": "dsfs"
  },
  "language_info": {
   "codemirror_mode": {
    "name": "ipython",
    "version": 3
   },
   "file_extension": ".py",
   "mimetype": "text/x-python",
   "name": "python",
   "nbconvert_exporter": "python",
   "pygments_lexer": "ipython3",
   "version": "3.8.8"
  }
 },
 "nbformat": 4,
 "nbformat_minor": 5
}
