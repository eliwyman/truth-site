{
 "cells": [
  {
   "cell_type": "markdown",
   "id": "7d1e5eed",
   "metadata": {},
   "source": [
    "# Steps in a Data Collection Project\n",
    "\n",
    "1. Identify the data source, requirements\n",
    "*     Import libraries\n",
    "*     Define constants, control variables and import credentials\n",
    "\n",
    "2. Establish connection, collect sample data\n",
    "\n",
    "3. Identify data format\n",
    "\n",
    "4. Transform data for storage\n",
    "\n",
    "5. Create function for bulk collection, transformation\n",
    "\n",
    "6. Save data for later analysis"
   ]
  },
  {
   "cell_type": "markdown",
   "id": "5af0f2bc",
   "metadata": {},
   "source": [
    "# 1. Identify the data source, requirements"
   ]
  },
  {
   "cell_type": "markdown",
   "id": "1798c794",
   "metadata": {},
   "source": [
    "API\n",
    "Webpage\n",
    "Database\n",
    "Files"
   ]
  },
  {
   "cell_type": "markdown",
   "id": "5c1f7fa3",
   "metadata": {},
   "source": [
    "Account/credentials required:"
   ]
  },
  {
   "cell_type": "markdown",
   "id": "657c117b",
   "metadata": {},
   "source": [
    "# 2. Establish connection, collect sample data"
   ]
  },
  {
   "cell_type": "markdown",
   "id": "7c6f04b0",
   "metadata": {},
   "source": [
    "    Import libraries"
   ]
  },
  {
   "cell_type": "code",
   "execution_count": null,
   "id": "139176d9",
   "metadata": {},
   "outputs": [],
   "source": [
    "# library helper\n",
    "# run: importnb-install from Conda before using\n",
    "from importnb import Notebook\n",
    "with Notebook(): \n",
    "    import Utility\n",
    "\n",
    "# custom helper class (from jupyter notebook)\n",
    "helper = Utility.Helper()\n",
    "\n",
    "import pandas as pd\n",
    "\n",
    "from bs4 import BeautifulSoup\n",
    "\n",
    "import requests\n",
    "\n",
    "import json\n",
    "\n",
    "import re\n",
    "\n",
    "from string import ascii_lowercase\n",
    "\n",
    "# progress bars for long running functions\n",
    "from tqdm import tqdm"
   ]
  },
  {
   "cell_type": "code",
   "execution_count": null,
   "id": "53842a85",
   "metadata": {},
   "outputs": [],
   "source": [
    "# reload changes in Jupyter notebooks\n",
    "from importlib import reload\n",
    "with Notebook(): __name__ == '__main__' and reload(Utility)"
   ]
  },
  {
   "cell_type": "markdown",
   "id": "71328111",
   "metadata": {},
   "source": [
    "    Define constants, control variables and import credentials"
   ]
  },
  {
   "cell_type": "code",
   "execution_count": null,
   "id": "1e66be8f",
   "metadata": {},
   "outputs": [],
   "source": [
    "DATA_PATH = '../../data/'"
   ]
  },
  {
   "cell_type": "markdown",
   "id": "47230b7d",
   "metadata": {},
   "source": [
    "# 3. Identify data format"
   ]
  },
  {
   "cell_type": "markdown",
   "id": "8053d570",
   "metadata": {},
   "source": [
    "# 4. Transform data for storage"
   ]
  },
  {
   "cell_type": "markdown",
   "id": "e738873b",
   "metadata": {},
   "source": [
    "# 5. Create function for bulk collection, transformation"
   ]
  },
  {
   "cell_type": "markdown",
   "id": "52e8a942",
   "metadata": {},
   "source": [
    "# 6. Save data for later analysis"
   ]
  }
 ],
 "metadata": {
  "kernelspec": {
   "display_name": "Python (dsfs)",
   "language": "python",
   "name": "dsfs"
  },
  "language_info": {
   "codemirror_mode": {
    "name": "ipython",
    "version": 3
   },
   "file_extension": ".py",
   "mimetype": "text/x-python",
   "name": "python",
   "nbconvert_exporter": "python",
   "pygments_lexer": "ipython3",
   "version": "3.8.8"
  }
 },
 "nbformat": 4,
 "nbformat_minor": 5
}
