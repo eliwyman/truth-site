{
 "cells": [
  {
   "cell_type": "markdown",
   "id": "10e12b7e",
   "metadata": {},
   "source": [
    "# Steps in Creating a Data Science Project\n",
    "\n",
    "1. Defining the problem\n",
    "**Business problem description:**\n",
    "**Technical problem description:**\n",
    "\n",
    "2. Getting the data\n",
    "Setup environment\n",
    "    Import libraries\n",
    "    Define constants and control variables    \n",
    "\n",
    "3. Exploratory data analysis\n",
    "\n",
    "4. Preparing the data for Machine Learning Algorithms\n",
    "Data cleaning\n",
    "Feature engineering\n",
    "preprocessing\n",
    "\n",
    "5. Creating and evaluating multiple machine learning models\n",
    "\n",
    "6. Tuning and selecting final models\n",
    "\n",
    "7. Presenting findings and/or solutions\n",
    "\n",
    "8. Launch, monitoring, and maintenance of system"
   ]
  },
  {
   "cell_type": "markdown",
   "id": "d13659b9",
   "metadata": {},
   "source": [
    "# 1. Defining the problem\n",
    "\n",
    "    **Business problem description:**\n",
    "    \n",
    "    From a promotional point of view, it is beneficial to see which statistics of a fighter affect them winning. These statistics could be things such as KO percentage, number of fights, or engineered statistics such as \"work rate\": how often a fighter is making submissions, strikes, or take downs.\n",
    "    \n",
    "    Many of these statistics seem intuitive to affect a fighter's success, we will ensure we use these features in our exploration, as well as other, less intuitive features.\n",
    "\n",
    "    **Technical problem description:**\n",
    "    \n",
    "    The data is available through an API at: https://sportsdata.io\n",
    "    \n",
    "    API documentation for this set: https://sportsdata.io/developers/api-documentation/mma#/sports-data\n",
    "    \n",
    "    The data set provides wins, so we will be able to create a supervised linear regression model in order to identify the statistics or set of statistics that correlate strongest with the a fighter's success (wins)."
   ]
  },
  {
   "cell_type": "markdown",
   "id": "d235f8d1",
   "metadata": {},
   "source": [
    "# 2. Getting the data"
   ]
  },
  {
   "cell_type": "markdown",
   "id": "cb3f9e19",
   "metadata": {},
   "source": [
    "# Setup environment"
   ]
  },
  {
   "cell_type": "markdown",
   "id": "e78aae8d",
   "metadata": {},
   "source": [
    "    # Import libraries"
   ]
  },
  {
   "cell_type": "code",
   "execution_count": 460,
   "id": "4f31f0a1",
   "metadata": {},
   "outputs": [
    {
     "name": "stdout",
     "output_type": "stream",
     "text": [
      "Class 'Helper' v1.3 has been loaded\n"
     ]
    }
   ],
   "source": [
    "import pandas as pd\n",
    "import numpy as np\n",
    "\n",
    "import os\n",
    "\n",
    "# library helper\n",
    "# run: importnb-install from Conda before using\n",
    "from importnb import Notebook\n",
    "with Notebook(): \n",
    "    import Utility\n",
    "\n",
    "# custom helper class (from jupyter notebook)\n",
    "helper = Utility.Helper()\n",
    "\n",
    "%matplotlib inline\n",
    "import matplotlib.pyplot as plt\n",
    "\n",
    "import seaborn as sns\n",
    "\n",
    "from sklearn.preprocessing import OrdinalEncoder\n",
    "from sklearn.preprocessing import MinMaxScaler\n",
    "from sklearn.base import BaseEstimator, TransformerMixin\n",
    "from sklearn.pipeline import Pipeline\n",
    "from sklearn.compose import ColumnTransformer\n",
    "\n",
    "from sklearn.linear_model import LinearRegression\n",
    "from sklearn.tree import DecisionTreeRegressor\n",
    "from sklearn.ensemble import RandomForestRegressor\n",
    "from sklearn.metrics import mean_squared_error\n",
    "from sklearn.model_selection import cross_val_score"
   ]
  },
  {
   "cell_type": "markdown",
   "id": "a3dd4dce",
   "metadata": {},
   "source": [
    "        Function to reload changes in Jupyter notebooks"
   ]
  },
  {
   "cell_type": "code",
   "execution_count": 461,
   "id": "c10f8642",
   "metadata": {},
   "outputs": [],
   "source": [
    "# reload notebooks\n",
    "from importlib import reload\n",
    "with Notebook(): __name__ == '__main__' and reload(Utility)"
   ]
  },
  {
   "cell_type": "markdown",
   "id": "68af9ede",
   "metadata": {},
   "source": [
    "    # Define constants and control variables"
   ]
  },
  {
   "cell_type": "code",
   "execution_count": 462,
   "id": "98c962c9",
   "metadata": {},
   "outputs": [],
   "source": [
    "DATA_PATH = '../../data/'\n",
    "\n",
    "FIGSIZE = (20,15)"
   ]
  },
  {
   "cell_type": "code",
   "execution_count": 463,
   "id": "5dc23559",
   "metadata": {},
   "outputs": [],
   "source": [
    "fighter_file = DATA_PATH + \"fighter_stats_UFC_2020.csv\"\n",
    "    \n",
    "fighter_df = helper.create_df(fighter_file)"
   ]
  },
  {
   "cell_type": "markdown",
   "id": "bb677525",
   "metadata": {},
   "source": [
    "# 3. Exploratory data analysis"
   ]
  },
  {
   "cell_type": "code",
   "execution_count": 464,
   "id": "43a2f9d6",
   "metadata": {},
   "outputs": [
    {
     "data": {
      "text/html": [
       "<div>\n",
       "<style scoped>\n",
       "    .dataframe tbody tr th:only-of-type {\n",
       "        vertical-align: middle;\n",
       "    }\n",
       "\n",
       "    .dataframe tbody tr th {\n",
       "        vertical-align: top;\n",
       "    }\n",
       "\n",
       "    .dataframe thead th {\n",
       "        text-align: right;\n",
       "    }\n",
       "</style>\n",
       "<table border=\"1\" class=\"dataframe\">\n",
       "  <thead>\n",
       "    <tr style=\"text-align: right;\">\n",
       "      <th></th>\n",
       "      <th>FighterId</th>\n",
       "      <th>FirstName</th>\n",
       "      <th>LastName</th>\n",
       "      <th>Nickname</th>\n",
       "      <th>WeightClass</th>\n",
       "      <th>BirthDate</th>\n",
       "      <th>Height</th>\n",
       "      <th>Weight</th>\n",
       "      <th>Reach</th>\n",
       "      <th>Wins</th>\n",
       "      <th>...</th>\n",
       "      <th>TitleWins</th>\n",
       "      <th>TitleLosses</th>\n",
       "      <th>TitleDraws</th>\n",
       "      <th>SigStrikesLandedPerMinute</th>\n",
       "      <th>SigStrikeAccuracy</th>\n",
       "      <th>TakedownAverage</th>\n",
       "      <th>SubmissionAverage</th>\n",
       "      <th>KnockoutPercentage</th>\n",
       "      <th>TechnicalKnockoutPercentage</th>\n",
       "      <th>DecisionPercentage</th>\n",
       "    </tr>\n",
       "  </thead>\n",
       "  <tbody>\n",
       "    <tr>\n",
       "      <th>0</th>\n",
       "      <td>140000992</td>\n",
       "      <td>Chris</td>\n",
       "      <td>Daukaus</td>\n",
       "      <td>NaN</td>\n",
       "      <td>Heavyweight</td>\n",
       "      <td>1989-09-25T00:00:00</td>\n",
       "      <td>75.0</td>\n",
       "      <td>231.0</td>\n",
       "      <td>76.0</td>\n",
       "      <td>12</td>\n",
       "      <td>...</td>\n",
       "      <td>0</td>\n",
       "      <td>0</td>\n",
       "      <td>0</td>\n",
       "      <td>10.9</td>\n",
       "      <td>65.9</td>\n",
       "      <td>0.0</td>\n",
       "      <td>0.0</td>\n",
       "      <td>32.1</td>\n",
       "      <td>32.1</td>\n",
       "      <td>0.0</td>\n",
       "    </tr>\n",
       "    <tr>\n",
       "      <th>1</th>\n",
       "      <td>140000735</td>\n",
       "      <td>Brett</td>\n",
       "      <td>Johns</td>\n",
       "      <td>The Pikey</td>\n",
       "      <td>Bantamweight</td>\n",
       "      <td>1992-02-21T00:00:00</td>\n",
       "      <td>67.0</td>\n",
       "      <td>135.0</td>\n",
       "      <td>71.0</td>\n",
       "      <td>17</td>\n",
       "      <td>...</td>\n",
       "      <td>1</td>\n",
       "      <td>0</td>\n",
       "      <td>0</td>\n",
       "      <td>2.0</td>\n",
       "      <td>53.7</td>\n",
       "      <td>3.4</td>\n",
       "      <td>0.7</td>\n",
       "      <td>0.0</td>\n",
       "      <td>0.0</td>\n",
       "      <td>13.2</td>\n",
       "    </tr>\n",
       "    <tr>\n",
       "      <th>2</th>\n",
       "      <td>140000485</td>\n",
       "      <td>Raquel</td>\n",
       "      <td>Pennington</td>\n",
       "      <td>Rocky</td>\n",
       "      <td>Women's Bantamweight</td>\n",
       "      <td>1988-09-05T00:00:00</td>\n",
       "      <td>67.0</td>\n",
       "      <td>135.0</td>\n",
       "      <td>67.0</td>\n",
       "      <td>12</td>\n",
       "      <td>...</td>\n",
       "      <td>0</td>\n",
       "      <td>0</td>\n",
       "      <td>0</td>\n",
       "      <td>0.8</td>\n",
       "      <td>27.5</td>\n",
       "      <td>0.3</td>\n",
       "      <td>0.2</td>\n",
       "      <td>0.0</td>\n",
       "      <td>0.0</td>\n",
       "      <td>16.1</td>\n",
       "    </tr>\n",
       "    <tr>\n",
       "      <th>3</th>\n",
       "      <td>140000613</td>\n",
       "      <td>Brandon</td>\n",
       "      <td>Moreno</td>\n",
       "      <td>The Assassin Baby</td>\n",
       "      <td>Flyweight</td>\n",
       "      <td>1993-12-07T00:00:00</td>\n",
       "      <td>67.0</td>\n",
       "      <td>125.0</td>\n",
       "      <td>70.0</td>\n",
       "      <td>19</td>\n",
       "      <td>...</td>\n",
       "      <td>1</td>\n",
       "      <td>0</td>\n",
       "      <td>1</td>\n",
       "      <td>1.5</td>\n",
       "      <td>32.4</td>\n",
       "      <td>0.9</td>\n",
       "      <td>0.3</td>\n",
       "      <td>1.7</td>\n",
       "      <td>1.7</td>\n",
       "      <td>5.1</td>\n",
       "    </tr>\n",
       "    <tr>\n",
       "      <th>4</th>\n",
       "      <td>140000268</td>\n",
       "      <td>Magomed</td>\n",
       "      <td>Mustafaev</td>\n",
       "      <td>The Sniper</td>\n",
       "      <td>Lightweight</td>\n",
       "      <td>1988-08-02T00:00:00</td>\n",
       "      <td>68.0</td>\n",
       "      <td>156.0</td>\n",
       "      <td>71.0</td>\n",
       "      <td>14</td>\n",
       "      <td>...</td>\n",
       "      <td>0</td>\n",
       "      <td>0</td>\n",
       "      <td>0</td>\n",
       "      <td>7.2</td>\n",
       "      <td>107.4</td>\n",
       "      <td>9.2</td>\n",
       "      <td>1.1</td>\n",
       "      <td>18.6</td>\n",
       "      <td>18.6</td>\n",
       "      <td>0.0</td>\n",
       "    </tr>\n",
       "  </tbody>\n",
       "</table>\n",
       "<p>5 rows × 27 columns</p>\n",
       "</div>"
      ],
      "text/plain": [
       "   FighterId FirstName    LastName           Nickname           WeightClass  \\\n",
       "0  140000992     Chris     Daukaus                NaN           Heavyweight   \n",
       "1  140000735     Brett       Johns          The Pikey          Bantamweight   \n",
       "2  140000485    Raquel  Pennington              Rocky  Women's Bantamweight   \n",
       "3  140000613   Brandon      Moreno  The Assassin Baby             Flyweight   \n",
       "4  140000268   Magomed   Mustafaev         The Sniper           Lightweight   \n",
       "\n",
       "             BirthDate  Height  Weight  Reach  Wins  ...  TitleWins  \\\n",
       "0  1989-09-25T00:00:00    75.0   231.0   76.0    12  ...          0   \n",
       "1  1992-02-21T00:00:00    67.0   135.0   71.0    17  ...          1   \n",
       "2  1988-09-05T00:00:00    67.0   135.0   67.0    12  ...          0   \n",
       "3  1993-12-07T00:00:00    67.0   125.0   70.0    19  ...          1   \n",
       "4  1988-08-02T00:00:00    68.0   156.0   71.0    14  ...          0   \n",
       "\n",
       "   TitleLosses  TitleDraws  SigStrikesLandedPerMinute  SigStrikeAccuracy  \\\n",
       "0            0           0                       10.9               65.9   \n",
       "1            0           0                        2.0               53.7   \n",
       "2            0           0                        0.8               27.5   \n",
       "3            0           1                        1.5               32.4   \n",
       "4            0           0                        7.2              107.4   \n",
       "\n",
       "   TakedownAverage  SubmissionAverage  KnockoutPercentage  \\\n",
       "0              0.0                0.0                32.1   \n",
       "1              3.4                0.7                 0.0   \n",
       "2              0.3                0.2                 0.0   \n",
       "3              0.9                0.3                 1.7   \n",
       "4              9.2                1.1                18.6   \n",
       "\n",
       "   TechnicalKnockoutPercentage  DecisionPercentage  \n",
       "0                         32.1                 0.0  \n",
       "1                          0.0                13.2  \n",
       "2                          0.0                16.1  \n",
       "3                          1.7                 5.1  \n",
       "4                         18.6                 0.0  \n",
       "\n",
       "[5 rows x 27 columns]"
      ]
     },
     "execution_count": 464,
     "metadata": {},
     "output_type": "execute_result"
    }
   ],
   "source": [
    "fighter_df.head()"
   ]
  },
  {
   "cell_type": "code",
   "execution_count": 465,
   "id": "39711f9d",
   "metadata": {},
   "outputs": [
    {
     "name": "stdout",
     "output_type": "stream",
     "text": [
      "<class 'pandas.core.frame.DataFrame'>\n",
      "RangeIndex: 705 entries, 0 to 704\n",
      "Data columns (total 27 columns):\n",
      " #   Column                       Non-Null Count  Dtype  \n",
      "---  ------                       --------------  -----  \n",
      " 0   FighterId                    705 non-null    int64  \n",
      " 1   FirstName                    705 non-null    object \n",
      " 2   LastName                     705 non-null    object \n",
      " 3   Nickname                     541 non-null    object \n",
      " 4   WeightClass                  702 non-null    object \n",
      " 5   BirthDate                    705 non-null    object \n",
      " 6   Height                       705 non-null    float64\n",
      " 7   Weight                       705 non-null    float64\n",
      " 8   Reach                        705 non-null    float64\n",
      " 9   Wins                         705 non-null    int64  \n",
      " 10  Losses                       705 non-null    int64  \n",
      " 11  Draws                        705 non-null    int64  \n",
      " 12  NoContests                   705 non-null    int64  \n",
      " 13  TechnicalKnockouts           705 non-null    int64  \n",
      " 14  TechnicalKnockoutLosses      705 non-null    int64  \n",
      " 15  Submissions                  705 non-null    int64  \n",
      " 16  SubmissionLosses             705 non-null    int64  \n",
      " 17  TitleWins                    705 non-null    int64  \n",
      " 18  TitleLosses                  705 non-null    int64  \n",
      " 19  TitleDraws                   705 non-null    int64  \n",
      " 20  SigStrikesLandedPerMinute    687 non-null    float64\n",
      " 21  SigStrikeAccuracy            687 non-null    float64\n",
      " 22  TakedownAverage              687 non-null    float64\n",
      " 23  SubmissionAverage            687 non-null    float64\n",
      " 24  KnockoutPercentage           705 non-null    float64\n",
      " 25  TechnicalKnockoutPercentage  705 non-null    float64\n",
      " 26  DecisionPercentage           705 non-null    float64\n",
      "dtypes: float64(10), int64(12), object(5)\n",
      "memory usage: 148.8+ KB\n"
     ]
    }
   ],
   "source": [
    "fighter_df.info()"
   ]
  },
  {
   "cell_type": "code",
   "execution_count": 466,
   "id": "dc490654",
   "metadata": {},
   "outputs": [],
   "source": [
    "train_set, test_set = helper.split_train_test(fighter_df, 0.2)\n",
    "\n",
    "fighters = train_set.drop('Wins', axis=1)\n",
    "fighters_labels = train_set['Wins'].copy()"
   ]
  },
  {
   "cell_type": "code",
   "execution_count": 467,
   "id": "cd897c76",
   "metadata": {},
   "outputs": [],
   "source": [
    "non_pred_features = ['FirstName', 'LastName', 'Nickname']"
   ]
  },
  {
   "cell_type": "code",
   "execution_count": 468,
   "id": "68aeee7a",
   "metadata": {},
   "outputs": [
    {
     "data": {
      "text/plain": [
       "array([[<AxesSubplot:title={'center':'KnockoutPercentage'}>,\n",
       "        <AxesSubplot:title={'center':'DecisionPercentage'}>,\n",
       "        <AxesSubplot:title={'center':'SigStrikesLandedPerMinute'}>,\n",
       "        <AxesSubplot:title={'center':'TakedownAverage'}>],\n",
       "       [<AxesSubplot:title={'center':'SubmissionAverage'}>,\n",
       "        <AxesSubplot:title={'center':'Height'}>,\n",
       "        <AxesSubplot:title={'center':'Reach'}>,\n",
       "        <AxesSubplot:title={'center':'Weight'}>],\n",
       "       [<AxesSubplot:title={'center':'Losses'}>,\n",
       "        <AxesSubplot:title={'center':'Draws'}>,\n",
       "        <AxesSubplot:title={'center':'NoContests'}>,\n",
       "        <AxesSubplot:title={'center':'SigStrikeAccuracy'}>],\n",
       "       [<AxesSubplot:title={'center':'TechnicalKnockoutPercentage'}>,\n",
       "        <AxesSubplot:>, <AxesSubplot:>, <AxesSubplot:>]], dtype=object)"
      ]
     },
     "execution_count": 468,
     "metadata": {},
     "output_type": "execute_result"
    },
    {
     "data": {
      "image/png": "[encoded data removed]",
      "text/plain": [
       "<Figure size 1440x1080 with 16 Axes>"
      ]
     },
     "metadata": {
      "needs_background": "light"
     },
     "output_type": "display_data"
    }
   ],
   "source": [
    "numerical_features = ['KnockoutPercentage', 'DecisionPercentage', 'SigStrikesLandedPerMinute', 'TakedownAverage', 'SubmissionAverage', 'Height', 'Reach', 'Weight', 'Losses', 'Draws', 'NoContests', 'SigStrikeAccuracy', 'TechnicalKnockoutPercentage']\n",
    "\n",
    "fighters_num = fighters[numerical_features]\n",
    "\n",
    "fighters_num.hist(bins=50, figsize=FIGSIZE)"
   ]
  },
  {
   "cell_type": "code",
   "execution_count": 469,
   "id": "f1babf96",
   "metadata": {},
   "outputs": [
    {
     "data": {
      "text/html": [
       "<div>\n",
       "<style scoped>\n",
       "    .dataframe tbody tr th:only-of-type {\n",
       "        vertical-align: middle;\n",
       "    }\n",
       "\n",
       "    .dataframe tbody tr th {\n",
       "        vertical-align: top;\n",
       "    }\n",
       "\n",
       "    .dataframe thead th {\n",
       "        text-align: right;\n",
       "    }\n",
       "</style>\n",
       "<table border=\"1\" class=\"dataframe\">\n",
       "  <thead>\n",
       "    <tr style=\"text-align: right;\">\n",
       "      <th></th>\n",
       "      <th>FighterId</th>\n",
       "      <th>FirstName</th>\n",
       "      <th>LastName</th>\n",
       "      <th>Nickname</th>\n",
       "      <th>WeightClass</th>\n",
       "      <th>BirthDate</th>\n",
       "      <th>Height</th>\n",
       "      <th>Weight</th>\n",
       "      <th>Reach</th>\n",
       "      <th>Losses</th>\n",
       "      <th>...</th>\n",
       "      <th>TitleWins</th>\n",
       "      <th>TitleLosses</th>\n",
       "      <th>TitleDraws</th>\n",
       "      <th>SigStrikesLandedPerMinute</th>\n",
       "      <th>SigStrikeAccuracy</th>\n",
       "      <th>TakedownAverage</th>\n",
       "      <th>SubmissionAverage</th>\n",
       "      <th>KnockoutPercentage</th>\n",
       "      <th>TechnicalKnockoutPercentage</th>\n",
       "      <th>DecisionPercentage</th>\n",
       "    </tr>\n",
       "  </thead>\n",
       "  <tbody>\n",
       "  </tbody>\n",
       "</table>\n",
       "<p>0 rows × 26 columns</p>\n",
       "</div>"
      ],
      "text/plain": [
       "Empty DataFrame\n",
       "Columns: [FighterId, FirstName, LastName, Nickname, WeightClass, BirthDate, Height, Weight, Reach, Losses, Draws, NoContests, TechnicalKnockouts, TechnicalKnockoutLosses, Submissions, SubmissionLosses, TitleWins, TitleLosses, TitleDraws, SigStrikesLandedPerMinute, SigStrikeAccuracy, TakedownAverage, SubmissionAverage, KnockoutPercentage, TechnicalKnockoutPercentage, DecisionPercentage]\n",
       "Index: []\n",
       "\n",
       "[0 rows x 26 columns]"
      ]
     },
     "execution_count": 469,
     "metadata": {},
     "output_type": "execute_result"
    }
   ],
   "source": [
    "# looking at the data it appears KOs () and TKOs () are reported as the same value\n",
    "fighters.loc[(fighters['KnockoutPercentage'] != fighters['TechnicalKnockoutPercentage'])]"
   ]
  },
  {
   "cell_type": "code",
   "execution_count": 470,
   "id": "95441586",
   "metadata": {},
   "outputs": [
    {
     "data": {
      "text/plain": [
       "Lightweight              80\n",
       "Featherweight            76\n",
       "Welterweight             72\n",
       "Bantamweight             67\n",
       "Middleweight             67\n",
       "Light Heavyweight        50\n",
       "Heavyweight              39\n",
       "Women's Flyweight        31\n",
       "Women's Strawweight      27\n",
       "Women's Bantamweight     26\n",
       "Flyweight                22\n",
       "Women's Featherweight     5\n",
       "Name: WeightClass, dtype: int64"
      ]
     },
     "execution_count": 470,
     "metadata": {},
     "output_type": "execute_result"
    }
   ],
   "source": [
    "fighters['WeightClass'].value_counts()"
   ]
  },
  {
   "cell_type": "markdown",
   "id": "ef6697f4",
   "metadata": {},
   "source": [
    "# 4. Preparing the data for Machine Learning Algorithms"
   ]
  },
  {
   "cell_type": "markdown",
   "id": "de6ca1c1",
   "metadata": {},
   "source": [
    "# Data cleaning"
   ]
  },
  {
   "cell_type": "markdown",
   "id": "6c5eceb3",
   "metadata": {},
   "source": [
    "    Drop non-predictive features (first name, last name, nickname)"
   ]
  },
  {
   "cell_type": "code",
   "execution_count": 471,
   "id": "a37ebe2c",
   "metadata": {},
   "outputs": [],
   "source": [
    "fighters = fighters.drop(non_pred_features, axis=1)"
   ]
  },
  {
   "cell_type": "code",
   "execution_count": 472,
   "id": "5a81ca38",
   "metadata": {},
   "outputs": [
    {
     "name": "stdout",
     "output_type": "stream",
     "text": [
      "Columns with NaN values:\n",
      " ['SigStrikesLandedPerMinute', 'SigStrikeAccuracy', 'TakedownAverage', 'SubmissionAverage']\n",
      "Count of rows with NaN values:  13\n"
     ]
    }
   ],
   "source": [
    "# look through the statistical columns for those with NaN/null values\n",
    "nan_columns = [column for column, value in fighters.iloc[:, 4:].isna().any(axis=0).to_dict().items() if value == True]\n",
    "print(\"Columns with NaN values:\\n\", nan_columns)\n",
    "\n",
    "# find the amount\n",
    "nan_row_count = fighters[fighters.iloc[:, 4:].isna().any(axis=1)].shape[0]\n",
    "print(\"Count of rows with NaN values: \", nan_count)"
   ]
  },
  {
   "cell_type": "markdown",
   "id": "9eace518",
   "metadata": {},
   "source": [
    "    Since there are only 13 rows with NaN values, and these values are not easily imputed we will drop these rows entirely"
   ]
  },
  {
   "cell_type": "code",
   "execution_count": 473,
   "id": "94d8c9bf",
   "metadata": {},
   "outputs": [],
   "source": [
    "def drop_na_rows(d, dl):\n",
    "    '''\n",
    "    This function expects the following arguments:\n",
    "\n",
    "        d: DataFrame - relative file path, including file name, of csv file to load to dataframe\n",
    "        dl: Series - relative file path, including file name, of csv file to load to dataframe\n",
    "\n",
    "    Returning the dataframe and series with any rows with NaN values removed\n",
    "    '''\n",
    "    na_idx = d[d.isna().any(axis=1)].index\n",
    "\n",
    "    d = d.drop(index=na_idx)\n",
    "    dl = dl.drop(index=na_idx)\n",
    "    return d, dl"
   ]
  },
  {
   "cell_type": "code",
   "execution_count": 474,
   "id": "0a962967",
   "metadata": {},
   "outputs": [],
   "source": [
    "fighters, fighters_labels = drop_na_rows(fighters, fighters_labels)"
   ]
  },
  {
   "cell_type": "markdown",
   "id": "588699ed",
   "metadata": {},
   "source": [
    "# Feature engineering"
   ]
  },
  {
   "cell_type": "code",
   "execution_count": 475,
   "id": "e023bba0",
   "metadata": {},
   "outputs": [],
   "source": [
    "# integer indices of the following columns: \n",
    "#  KnockoutPercentage, DecisionPercentage, SigStrikesLandedPerMinute, TakedownAverage, SubmissionAverage, Height, Reach, Weight, Loss, Draws, NoContests\n",
    "ko_idx, dec_idx, sig_idx, tkd_idx, sub_idx, hgt_idx, rch_idx, wgt_idx, los_idx, drw_idx, noc_idx = \\\n",
    "0, 1, 2, 3, 4, 5, 6, 7, 8, 9, 10\n",
    "\n",
    "class CombinedAttributesAdder(BaseEstimator, TransformerMixin):\n",
    "    def __init__(self, add_non_wins=True):\n",
    "        self.add_non_wins = add_non_wins\n",
    "    def fit(self, X, y=None):\n",
    "        return self #nothing else to do\n",
    "    def transform(self, X):\n",
    "        # KOs column is always the same as TKOs \"combine\" them to reduce ambiguity\n",
    "        StrikeFinishPercentage = X.iloc[:, ko_idx]\n",
    "        # this stat is left out of the data but can be calculated (win % where not by KOs/TKOs, decisions)\n",
    "        SubmissionPercentage = 100 - (X.iloc[:, ko_idx] + X.iloc[:, dec_idx])\n",
    "        WorkAverage = X.iloc[:, sig_idx] * X.iloc[:, tkd_idx] * X.iloc[:, sub_idx]\n",
    "        Length = X.iloc[:, hgt_idx] * X.iloc[:, rch_idx] / X.iloc[:, wgt_idx]\n",
    "        if self.add_non_wins:\n",
    "            NonWins = X.iloc[:, los_idx] + X.iloc[:, drw_idx] + X.iloc[:, noc_idx]\n",
    "            return np.c_[X, StrikeFinishPercentage, SubmissionPercentage, WorkAverage, Length, NonWins]\n",
    "        else:\n",
    "            return np.c_[X, StrikeFinishPercentage, SubmissionPercentage, WorkAverage, Length]"
   ]
  },
  {
   "cell_type": "markdown",
   "id": "41b24d5a",
   "metadata": {},
   "source": [
    "    Let's create a pipeline for the data transformation steps"
   ]
  },
  {
   "cell_type": "code",
   "execution_count": 476,
   "id": "ed9d0b25",
   "metadata": {},
   "outputs": [],
   "source": [
    "num_pipeline = Pipeline([\n",
    "    ('attribs_adder', CombinedAttributesAdder()),\n",
    "    ('min_max_scaler', MinMaxScaler())\n",
    "])"
   ]
  },
  {
   "cell_type": "code",
   "execution_count": 477,
   "id": "58272859",
   "metadata": {},
   "outputs": [],
   "source": [
    "from sklearn.compose import ColumnTransformer\n",
    "\n",
    "num_attribs = list(fighters_num)\n",
    "cat_attribs = ['WeightClass']\n",
    "\n",
    "full_pipeline = ColumnTransformer([\n",
    "    ('num', num_pipeline, num_attribs),\n",
    "    ('cat', OrdinalEncoder(), cat_attribs)\n",
    "])"
   ]
  },
  {
   "cell_type": "code",
   "execution_count": 478,
   "id": "61b84567",
   "metadata": {},
   "outputs": [],
   "source": [
    "fighters_prepared = full_pipeline.fit_transform(fighters)"
   ]
  },
  {
   "cell_type": "code",
   "execution_count": 479,
   "id": "ac7b039c",
   "metadata": {},
   "outputs": [
    {
     "data": {
      "text/plain": [
       "LinearRegression()"
      ]
     },
     "execution_count": 479,
     "metadata": {},
     "output_type": "execute_result"
    }
   ],
   "source": [
    "lin_reg = LinearRegression()\n",
    "lin_reg.fit(fighters_prepared, fighters_labels)"
   ]
  },
  {
   "cell_type": "markdown",
   "id": "246ef080",
   "metadata": {},
   "source": [
    "    Now that we have a working Linear Regression model, we can make a few predictions from the training set:"
   ]
  },
  {
   "cell_type": "code",
   "execution_count": 480,
   "id": "85ead6d9",
   "metadata": {},
   "outputs": [
    {
     "name": "stdout",
     "output_type": "stream",
     "text": [
      "Predictions: [16.61238378 14.9905399  16.54297306 10.24394494 15.23551724]\n",
      "Labels(Actual): [15, 17, 8, 8, 14]\n"
     ]
    }
   ],
   "source": [
    "subset_data = fighters.iloc[:5]\n",
    "subset_labels = fighters_labels.iloc[:5]\n",
    "subset_prepared = full_pipeline.transform(subset_data)\n",
    "\n",
    "print(\"Predictions:\", lin_reg.predict(subset_prepared))\n",
    "print(\"Labels(Actual):\", list(subset_labels))"
   ]
  },
  {
   "cell_type": "code",
   "execution_count": 481,
   "id": "b6afcf1a",
   "metadata": {},
   "outputs": [
    {
     "data": {
      "text/plain": [
       "4.526155521720792"
      ]
     },
     "execution_count": 481,
     "metadata": {},
     "output_type": "execute_result"
    }
   ],
   "source": [
    "fighters_predictions = lin_reg.predict(fighters_prepared)\n",
    "lin_mse = mean_squared_error(fighters_labels, fighters_predictions)\n",
    "lin_rmse = np.sqrt(lin_mse)\n",
    "lin_rmse"
   ]
  },
  {
   "cell_type": "code",
   "execution_count": 482,
   "id": "38169d8c",
   "metadata": {},
   "outputs": [
    {
     "name": "stdout",
     "output_type": "stream",
     "text": [
      "Scores: [7.41006686 5.69529311 6.65923829 8.07915387 7.36453418 6.26679561\n",
      " 5.21710474 7.4845295  7.40761279 6.36541582]\n",
      "Mean: 6.794974476510616\n",
      "Standard deviation: 0.8592761684132525\n"
     ]
    }
   ],
   "source": [
    "tree_reg = DecisionTreeRegressor()\n",
    "tree_reg.fit(fighters_prepared, fighters_labels)\n",
    "\n",
    "scores = cross_val_score(tree_reg, fighters_prepared, fighters_labels, scoring=\"neg_mean_squared_error\", cv=10)\n",
    "tree_rmse_scores = np.sqrt(-scores)\n",
    "\n",
    "helper.display_scores(tree_rmse_scores)"
   ]
  },
  {
   "cell_type": "code",
   "execution_count": 483,
   "id": "8f56c66c",
   "metadata": {},
   "outputs": [
    {
     "name": "stdout",
     "output_type": "stream",
     "text": [
      "Scores: [4.71238581 3.75307026 4.32060286 5.4647555  5.75127749 4.57943486\n",
      " 3.57676085 4.65239352 4.71538719 4.82231829]\n",
      "Mean: 4.634838663127233\n",
      "Standard deviation: 0.6310320052872013\n"
     ]
    }
   ],
   "source": [
    "forest_reg = RandomForestRegressor()\n",
    "forest_reg.fit(fighters_prepared, fighters_labels)\n",
    "\n",
    "scores = cross_val_score(forest_reg, fighters_prepared, fighters_labels, scoring=\"neg_mean_squared_error\", cv=10)\n",
    "forest_rmse_scores = np.sqrt(-scores)\n",
    "\n",
    "helper.display_scores(forest_rmse_scores)"
   ]
  },
  {
   "cell_type": "code",
   "execution_count": 484,
   "id": "02453b61",
   "metadata": {},
   "outputs": [],
   "source": [
    "X_test = test_set.drop('Wins', axis=1)\n",
    "X_test = X_test.drop(non_pred_features, axis=1)\n",
    "\n",
    "y_test = test_set['Wins'].copy()\n",
    "\n",
    "X_test, y_test = drop_na_rows(X_test, y_test)\n",
    "\n",
    "X_test_prepared = full_pipeline.transform(X_test)"
   ]
  },
  {
   "cell_type": "markdown",
   "id": "9aee0888",
   "metadata": {},
   "source": [
    "    The Random Forest model seems to have the best (lowest average) score, we'll use that for our final predictions"
   ]
  },
  {
   "cell_type": "code",
   "execution_count": 485,
   "id": "5b648382",
   "metadata": {},
   "outputs": [
    {
     "data": {
      "text/plain": [
       "5.103524049351114"
      ]
     },
     "execution_count": 485,
     "metadata": {},
     "output_type": "execute_result"
    }
   ],
   "source": [
    "final_model = lin_reg\n",
    "final_predictions = final_model.predict(X_test_prepared)\n",
    "final_mse = mean_squared_error(y_test, final_predictions)\n",
    "final_rmse = np.sqrt(final_mse)\n",
    "final_rmse"
   ]
  }
 ],
 "metadata": {
  "kernelspec": {
   "display_name": "Python (dsfs)",
   "language": "python",
   "name": "dsfs"
  },
  "language_info": {
   "codemirror_mode": {
    "name": "ipython",
    "version": 3
   },
   "file_extension": ".py",
   "mimetype": "text/x-python",
   "name": "python",
   "nbconvert_exporter": "python",
   "pygments_lexer": "ipython3",
   "version": "3.8.8"
  }
 },
 "nbformat": 4,
 "nbformat_minor": 5
}
