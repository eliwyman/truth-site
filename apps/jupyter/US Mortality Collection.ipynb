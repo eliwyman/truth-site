{
 "cells": [
  {
   "cell_type": "markdown",
   "id": "7d1e5eed",
   "metadata": {},
   "source": [
    "# Steps in a Data Collection Project\n",
    "\n",
    "1. Identify the data source, requirements\n",
    "*     Import libraries\n",
    "*     Define constants, control variables and import credentials\n",
    "\n",
    "2. Establish connection, collect sample data\n",
    "\n",
    "3. Identify data format\n",
    "\n",
    "4. Save data for later analysis"
   ]
  },
  {
   "cell_type": "markdown",
   "id": "5af0f2bc",
   "metadata": {},
   "source": [
    "# 1. Identify the data source, requirements"
   ]
  },
  {
   "cell_type": "markdown",
   "id": "1798c794",
   "metadata": {},
   "source": [
    "Webpage, PDF, tabular data\n",
    "https://www.cdc.gov/nchs/data/databriefs/db395-tables-508.pdf#page=4"
   ]
  },
  {
   "cell_type": "markdown",
   "id": "5c1f7fa3",
   "metadata": {},
   "source": [
    "Account/credentials required: n/a (public)"
   ]
  },
  {
   "cell_type": "markdown",
   "id": "657c117b",
   "metadata": {},
   "source": [
    "# 2. Establish connection, collect sample data"
   ]
  },
  {
   "cell_type": "markdown",
   "id": "7c6f04b0",
   "metadata": {},
   "source": [
    "    Import libraries"
   ]
  },
  {
   "cell_type": "code",
   "execution_count": 1,
   "id": "139176d9",
   "metadata": {},
   "outputs": [
    {
     "name": "stdout",
     "output_type": "stream",
     "text": [
      "Class 'Helper' v1.3 has been loaded\n"
     ]
    }
   ],
   "source": [
    "# library helper\n",
    "# run: importnb-install from Conda before using\n",
    "from importnb import Notebook\n",
    "with Notebook(): \n",
    "    import Utility\n",
    "\n",
    "# custom helper class (from jupyter notebook)\n",
    "helper = Utility.Helper()\n",
    "\n",
    "import pandas as pd\n",
    "\n",
    "import re"
   ]
  },
  {
   "cell_type": "code",
   "execution_count": 2,
   "id": "53842a85",
   "metadata": {},
   "outputs": [],
   "source": [
    "# reload changes in Jupyter notebooks\n",
    "from importlib import reload\n",
    "with Notebook(): __name__ == '__main__' and reload(Utility)"
   ]
  },
  {
   "cell_type": "markdown",
   "id": "71328111",
   "metadata": {},
   "source": [
    "    Define constants, control variables and import credentials"
   ]
  },
  {
   "cell_type": "code",
   "execution_count": 3,
   "id": "1e66be8f",
   "metadata": {},
   "outputs": [],
   "source": [
    "DATA_PATH = '../../data/'"
   ]
  },
  {
   "cell_type": "markdown",
   "id": "47230b7d",
   "metadata": {},
   "source": [
    "# 3. Identify data format"
   ]
  },
  {
   "cell_type": "markdown",
   "id": "968bb438",
   "metadata": {},
   "source": [
    "    Dataframe representing the following information.\n",
    "    \n",
    "    Data table for Figure 4. Number of deaths, percentage of total deaths, and age-adjusted death rates for the 10 leading causes of death in 2019: United States, 2018 and 2019\n",
    "        \n",
    "    Legend\n",
    "\n",
    "        Rank – Based on number of deaths; \n",
    "        Rate – Deaths per 100,000 U.S. standard population\n",
    "        Cause of death (based on International Classification of Diseases, 10th Revision [ICD–10])\n",
    "            *code not included in ICD-10"
   ]
  },
  {
   "cell_type": "code",
   "execution_count": 15,
   "id": "342c1c4c",
   "metadata": {},
   "outputs": [],
   "source": [
    "cause_columns = ['Rank',\n",
    "    'Cause of death',\n",
    "    'Classification code',\n",
    "    '2018 Number',\n",
    "    '2018 Percent',\n",
    "    '2018 Rate',\n",
    "    '2019 Number',\n",
    "    '2019 Percent',\n",
    "    '2019 Rate'\n",
    "]\n",
    "    \n",
    "cause_data = [\n",
    "    ['-', 'All causes', '', 2839205, 100.0, 723.6, 2854838, 100.0, 715.2],\n",
    "    [1, 'Diseases of heart', 'I00–I09,I11,I13,I20–I51', 655381, 23.1, 163.6, 659041, 23.1, 161.5],\n",
    "    [2, 'Malignant neoplasms', 'C00–C97', 599274, 21.1, 149.1, 599601, 21.0, 146.2],\n",
    "    [3, 'Accidents (unintentional injuries)', 'V01–X59,Y85–Y86', 167127, 5.9, 48.0 , 173040, 6.1, 49.3],\n",
    "    [4, 'Chronic lower respiratory diseases', 'J40–J47', 159486, 5.6, 39.7, 156979, 5.5, 38.2],\n",
    "    [5, 'Cerebrovascular diseases', 'I60–I69', 147810, 5.2, 37.1, 150005, 5.3, 37.0],  \n",
    "    [6, 'Alzheimer disease', 'G30', 122019, 4.3, 30.5, 121499, 4.3, 29.8],\n",
    "    [7, 'Diabetes mellitus', 'E10–E14', 84946, 3.0, 21.4, 87647, 3.1, 21.6],\n",
    "    [8, 'Nephritis, nephrotic syndrome and nephrosis', 'N00–N07,N17–N19,N25–N27', 51386, 1.8, 12.9, 51565, 1.8, 12.7],\n",
    "    [9, 'Influenza and pneumonia', 'J09–J18', 59120, 2.1, 14.9, 49783, 1.7, 12.3],\n",
    "    [10, 'Intentional self-harm (suicide)', '*U03,X60–X84,Y87.0', 48344, 1.7, 14.2, 47511, 1.7, 13.9],\n",
    "    ['-', 'All other causes (residual)', 'C00',  744312, 26.2, '-', 758167, 26.6, '-']  \n",
    "]\n",
    "    \n",
    "cause_df = pd.DataFrame(columns=cause_columns, data=cause_data)"
   ]
  },
  {
   "cell_type": "code",
   "execution_count": 16,
   "id": "7e1cf61c",
   "metadata": {},
   "outputs": [
    {
     "data": {
      "text/html": [
       "<div>\n",
       "<style scoped>\n",
       "    .dataframe tbody tr th:only-of-type {\n",
       "        vertical-align: middle;\n",
       "    }\n",
       "\n",
       "    .dataframe tbody tr th {\n",
       "        vertical-align: top;\n",
       "    }\n",
       "\n",
       "    .dataframe thead th {\n",
       "        text-align: right;\n",
       "    }\n",
       "</style>\n",
       "<table border=\"1\" class=\"dataframe\">\n",
       "  <thead>\n",
       "    <tr style=\"text-align: right;\">\n",
       "      <th></th>\n",
       "      <th>Rank</th>\n",
       "      <th>Cause of death</th>\n",
       "      <th>Classification code</th>\n",
       "      <th>2018 Number</th>\n",
       "      <th>2018 Percent</th>\n",
       "      <th>2018 Rate</th>\n",
       "      <th>2019 Number</th>\n",
       "      <th>2019 Percent</th>\n",
       "      <th>2019 Rate</th>\n",
       "    </tr>\n",
       "  </thead>\n",
       "  <tbody>\n",
       "    <tr>\n",
       "      <th>0</th>\n",
       "      <td>-</td>\n",
       "      <td>All causes</td>\n",
       "      <td></td>\n",
       "      <td>2839205</td>\n",
       "      <td>100.0</td>\n",
       "      <td>723.6</td>\n",
       "      <td>2854838</td>\n",
       "      <td>100.0</td>\n",
       "      <td>715.2</td>\n",
       "    </tr>\n",
       "    <tr>\n",
       "      <th>1</th>\n",
       "      <td>1</td>\n",
       "      <td>Diseases of heart</td>\n",
       "      <td>I00–I09,I11,I13,I20–I51</td>\n",
       "      <td>655381</td>\n",
       "      <td>23.1</td>\n",
       "      <td>163.6</td>\n",
       "      <td>659041</td>\n",
       "      <td>23.1</td>\n",
       "      <td>161.5</td>\n",
       "    </tr>\n",
       "    <tr>\n",
       "      <th>2</th>\n",
       "      <td>2</td>\n",
       "      <td>Malignant neoplasms</td>\n",
       "      <td>C00–C97</td>\n",
       "      <td>599274</td>\n",
       "      <td>21.1</td>\n",
       "      <td>149.1</td>\n",
       "      <td>599601</td>\n",
       "      <td>21.0</td>\n",
       "      <td>146.2</td>\n",
       "    </tr>\n",
       "    <tr>\n",
       "      <th>3</th>\n",
       "      <td>3</td>\n",
       "      <td>Accidents (unintentional injuries)</td>\n",
       "      <td>V01–X59,Y85–Y86</td>\n",
       "      <td>167127</td>\n",
       "      <td>5.9</td>\n",
       "      <td>48.0</td>\n",
       "      <td>173040</td>\n",
       "      <td>6.1</td>\n",
       "      <td>49.3</td>\n",
       "    </tr>\n",
       "    <tr>\n",
       "      <th>4</th>\n",
       "      <td>4</td>\n",
       "      <td>Chronic lower respiratory diseases</td>\n",
       "      <td>J40–J47</td>\n",
       "      <td>159486</td>\n",
       "      <td>5.6</td>\n",
       "      <td>39.7</td>\n",
       "      <td>156979</td>\n",
       "      <td>5.5</td>\n",
       "      <td>38.2</td>\n",
       "    </tr>\n",
       "    <tr>\n",
       "      <th>5</th>\n",
       "      <td>5</td>\n",
       "      <td>Cerebrovascular diseases</td>\n",
       "      <td>I60–I69</td>\n",
       "      <td>147810</td>\n",
       "      <td>5.2</td>\n",
       "      <td>37.1</td>\n",
       "      <td>150005</td>\n",
       "      <td>5.3</td>\n",
       "      <td>37.0</td>\n",
       "    </tr>\n",
       "    <tr>\n",
       "      <th>6</th>\n",
       "      <td>6</td>\n",
       "      <td>Alzheimer disease</td>\n",
       "      <td>G30</td>\n",
       "      <td>122019</td>\n",
       "      <td>4.3</td>\n",
       "      <td>30.5</td>\n",
       "      <td>121499</td>\n",
       "      <td>4.3</td>\n",
       "      <td>29.8</td>\n",
       "    </tr>\n",
       "    <tr>\n",
       "      <th>7</th>\n",
       "      <td>7</td>\n",
       "      <td>Diabetes mellitus</td>\n",
       "      <td>E10–E14</td>\n",
       "      <td>84946</td>\n",
       "      <td>3.0</td>\n",
       "      <td>21.4</td>\n",
       "      <td>87647</td>\n",
       "      <td>3.1</td>\n",
       "      <td>21.6</td>\n",
       "    </tr>\n",
       "    <tr>\n",
       "      <th>8</th>\n",
       "      <td>8</td>\n",
       "      <td>Nephritis, nephrotic syndrome and nephrosis</td>\n",
       "      <td>N00–N07,N17–N19,N25–N27</td>\n",
       "      <td>51386</td>\n",
       "      <td>1.8</td>\n",
       "      <td>12.9</td>\n",
       "      <td>51565</td>\n",
       "      <td>1.8</td>\n",
       "      <td>12.7</td>\n",
       "    </tr>\n",
       "    <tr>\n",
       "      <th>9</th>\n",
       "      <td>9</td>\n",
       "      <td>Influenza and pneumonia</td>\n",
       "      <td>J09–J18</td>\n",
       "      <td>59120</td>\n",
       "      <td>2.1</td>\n",
       "      <td>14.9</td>\n",
       "      <td>49783</td>\n",
       "      <td>1.7</td>\n",
       "      <td>12.3</td>\n",
       "    </tr>\n",
       "    <tr>\n",
       "      <th>10</th>\n",
       "      <td>10</td>\n",
       "      <td>Intentional self-harm (suicide)</td>\n",
       "      <td>*U03,X60–X84,Y87.0</td>\n",
       "      <td>48344</td>\n",
       "      <td>1.7</td>\n",
       "      <td>14.2</td>\n",
       "      <td>47511</td>\n",
       "      <td>1.7</td>\n",
       "      <td>13.9</td>\n",
       "    </tr>\n",
       "    <tr>\n",
       "      <th>11</th>\n",
       "      <td>-</td>\n",
       "      <td>All other causes (residual)</td>\n",
       "      <td>C00</td>\n",
       "      <td>744312</td>\n",
       "      <td>26.2</td>\n",
       "      <td>-</td>\n",
       "      <td>758167</td>\n",
       "      <td>26.6</td>\n",
       "      <td>-</td>\n",
       "    </tr>\n",
       "  </tbody>\n",
       "</table>\n",
       "</div>"
      ],
      "text/plain": [
       "   Rank                               Cause of death      Classification code  \\\n",
       "0     -                                   All causes                            \n",
       "1     1                            Diseases of heart  I00–I09,I11,I13,I20–I51   \n",
       "2     2                          Malignant neoplasms                  C00–C97   \n",
       "3     3           Accidents (unintentional injuries)          V01–X59,Y85–Y86   \n",
       "4     4           Chronic lower respiratory diseases                  J40–J47   \n",
       "5     5                     Cerebrovascular diseases                  I60–I69   \n",
       "6     6                            Alzheimer disease                      G30   \n",
       "7     7                            Diabetes mellitus                  E10–E14   \n",
       "8     8  Nephritis, nephrotic syndrome and nephrosis  N00–N07,N17–N19,N25–N27   \n",
       "9     9                      Influenza and pneumonia                  J09–J18   \n",
       "10   10              Intentional self-harm (suicide)       *U03,X60–X84,Y87.0   \n",
       "11    -                  All other causes (residual)                      C00   \n",
       "\n",
       "    2018 Number  2018 Percent 2018 Rate  2019 Number  2019 Percent 2019 Rate  \n",
       "0       2839205         100.0     723.6      2854838         100.0     715.2  \n",
       "1        655381          23.1     163.6       659041          23.1     161.5  \n",
       "2        599274          21.1     149.1       599601          21.0     146.2  \n",
       "3        167127           5.9      48.0       173040           6.1      49.3  \n",
       "4        159486           5.6      39.7       156979           5.5      38.2  \n",
       "5        147810           5.2      37.1       150005           5.3      37.0  \n",
       "6        122019           4.3      30.5       121499           4.3      29.8  \n",
       "7         84946           3.0      21.4        87647           3.1      21.6  \n",
       "8         51386           1.8      12.9        51565           1.8      12.7  \n",
       "9         59120           2.1      14.9        49783           1.7      12.3  \n",
       "10        48344           1.7      14.2        47511           1.7      13.9  \n",
       "11       744312          26.2         -       758167          26.6         -  "
      ]
     },
     "execution_count": 16,
     "metadata": {},
     "output_type": "execute_result"
    }
   ],
   "source": [
    "cause_df"
   ]
  },
  {
   "cell_type": "markdown",
   "id": "52e8a942",
   "metadata": {},
   "source": [
    "# 4. Save data for later analysis"
   ]
  },
  {
   "cell_type": "code",
   "execution_count": 18,
   "id": "d9d6680c",
   "metadata": {},
   "outputs": [],
   "source": [
    "cause_df.to_csv(\"../../data/us_deaths_by_cause.csv\")"
   ]
  }
 ],
 "metadata": {
  "kernelspec": {
   "display_name": "Python (dsfs)",
   "language": "python",
   "name": "dsfs"
  },
  "language_info": {
   "codemirror_mode": {
    "name": "ipython",
    "version": 3
   },
   "file_extension": ".py",
   "mimetype": "text/x-python",
   "name": "python",
   "nbconvert_exporter": "python",
   "pygments_lexer": "ipython3",
   "version": "3.8.8"
  }
 },
 "nbformat": 4,
 "nbformat_minor": 5
}
